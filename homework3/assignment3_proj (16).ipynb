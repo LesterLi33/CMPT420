{
  "cells": [
    {
      "cell_type": "markdown",
      "metadata": {
        "id": "0111tJFWzICk"
      },
      "source": [
        "# Deep Learning Course\n",
        "\n",
        "## Assignment 3\n",
        "\n",
        "### Assignment Goals:\n",
        "\n",
        "* Implementing and improving RNN based language models.\n",
        "* Implementing and applying a Recurrent Neural Network on text classification problem.\n",
        "\n",
        "\n",
        "In this assignment, you will implement RNN-based language models and compare extracted word representation from different models. You will also compare two different training methods for sequential data: Truncated Backpropagation Through Time __(TBTT)__ and Backpropagation Through Time __(BTT)__.\n",
        "Also, you will be asked to apply Vanilla RNN to capture word representations and solve a text classification problem.\n"
      ]
    },
    {
      "cell_type": "markdown",
      "metadata": {
        "id": "JlK9zg28zICs"
      },
      "source": [
        "### DataSets\n",
        "\n",
        "You will use two datasets, an English Literature dataset for language model task (part 1 to 4) and the 20Newsgroups dataset for text classification (part 5)."
      ]
    },
    {
      "cell_type": "markdown",
      "metadata": {
        "id": "1d6HhNVxzICs"
      },
      "source": [
        "### Requirements\n",
        "\n",
        "1. **(30 points) Implement a RNN based language model.**\n",
        "\n",
        "    Implement the RNN based language model described by [Mikolov et al.](https://www.fit.vutbr.cz/research/groups/speech/publi/2010/mikolov_interspeech2010_IS100722.pdf), also called **Elman network**. The Elman network contains input, hidden and output layer and is trained by standard backpropagation (TBTT with $τ = 1$) using the cross-entropy loss.\n",
        "\n",
        "      * The input vector $x(t)$ at time $t$ consists of the current word while using 1-of-N coding (thus its size is equal to the size of the vocabulary) $w(t)$ and a vector $s(t − 1)$ which represents output values in the hidden layer from the previous time step $t-1$.\n",
        "      $$x(t) = w(t) + s(t-1)$$\n",
        "      \n",
        "      * The hidden layer is a fully connected tanh layer with size 500.\n",
        "      $$s_j(t) = f(\\sum_i x_i(t)u_{ji} )$$\n",
        "      Here $u$ is the parameter matrix of hidden layer, $f$ is the tanh activation function.\n",
        "      \n",
        "      * The softmax output layer captures a valid probability distribution.\n",
        "      $$y_k(t) = g(\\sum_j s_j(t)v_{kj})$$\n",
        "      Here $v$ is the parameter matrix of output layer, $g$ is the softmax function.\n",
        "      \n",
        "      * The model is trained with truncated backpropagation through time (TBTT) with $τ = 1$: the weights of the network are updated based on the error vector computed only for the current time step.\n",
        "      \n",
        "   Train the language model on the given English Literature dataset, report the model cross-entropy loss on the train set. Visualize the cross-entropy loss during training using a curve line. Your curve line should demonstrate that the loss value converges.\n",
        "   \n",
        "   Use nltk.word_tokenize to tokenize the documents. For initialization, $s(0)$ can be set to a vector of small values. Note that we are not interested in the *dynamic model* mentioned in the original paper.\n"
      ]
    },
    {
      "cell_type": "markdown",
      "metadata": {
        "id": "o1YWGQ_lzICt"
      },
      "source": [
        "2. **(20 points) Train the Elman network with BTT.**\n",
        "\n",
        "    TBTT has less computational cost and memory needs in comparison with **backpropagation through time algorithm (BTT)**. These benefits come at the cost of losing long term dependencies ([reference](https://arxiv.org/abs/1705.08209)). TBTT is rarely used until now, we use BTT instead.\n",
        "\n",
        "    Train your implemented Elman network with BTT, then compare the computational costs and performance of BTT and TBTT training.  For training the Elman-type RNN with BTT, one option is to perform mini-batch gradient descent with exactly one sentence per mini-batch. (Hints: The input  size will be (1, Sentence Length) ).\n",
        "\n",
        "   * Split the document into sentences (you can use nltk.tokenize.sent_tokenize. The natural language toolkit (nltk) can be installed using the command 'pip install nltk').\n",
        "   * For each sentence, perform one pass that computes the mean/sum loss for this sentence; then perform a gradient update for the whole sentence. (So the mini-batch size varies for the sentences with different lengths). You can truncate long sentences to fit the data in memory.\n",
        "   * Report the model cross-entropy loss.Visualize the cross-entropy loss during training using a curve line. Your curve line should demonstrate that the loss value converges."
      ]
    },
    {
      "cell_type": "markdown",
      "metadata": {
        "id": "mieDS133zICu"
      },
      "source": [
        "3. **(30 points) Improve your Elman network with GRU.**\n",
        "\n",
        "    (a) Gated Recurrent Unit: It does not seem that simple recurrent neural networks can capture truly exploit context information with long dependencies, because of the problem of gradient vanishing and exploding. To solve this problem, gating mechanisms for recurrent neural networks were introduced. (15 points)\n",
        "\n",
        "    Try to learn your last model (Elman + BTT) with the SimpleRnn unit replaced with a **Gated Recurrent Unit (GRU)**. Report the model cross-entropy loss.  Visualize the cross-entropy loss during training using a curve line. Your curve line should demonstrate that the loss value converges. Compare your results in terms of cross-entropy loss with two other approaches (part 1 and 2).\n",
        "\n",
        "    (b) Text generation: Use each model to generate 10 synthetic sentences of 15 words each. Discuss the quality of the sentences generated - do they look like proper English? Do they match the training set? (15 points)\n",
        "    \n",
        "    Text generation from a given language model can be done using the following iterative process:\n",
        "   - Set sequence = \\[first_word\\], chosen randomly.\n",
        "   - Select a new word based on the sequence so far, add this word to the sequence, and repeat. At each iteration, select the word with maximum probability given the sequence so far. The trained language model outputs this probability."
      ]
    },
    {
      "cell_type": "markdown",
      "metadata": {
        "id": "pW5DiR3CzICu"
      },
      "source": [
        "4. **(20 points) Implement a text classification model.**\n",
        "\n",
        "    We are aiming to learn an RNN model that predicts document categories given its content (text classification). For this task, we will use the 20Newsgroups dataset. The 20Newsgroupst contains messages from twenty newsgroups.  We selected four major categories (comp, politics, rec, and religion) comprising around 13k documents altogether. Your model should learn word representations to support the classification task. For solving this problem modify the **Elman network** architecture and simple RNN such that the last layer is a softmax layer with just 4 output neurons (one for each category).\n",
        "\n",
        "    * Download the 20Newsgroups dataset, and use the below helper function data_loader() to read in the dataset.\n",
        "    * Split the data into a training set (90%) and validation set (10%).\n",
        "    * Implement your text classification model, and train the model on 20Newsgroups training set.\n",
        "    * Report your accuracy results on the validation set. Try to achieve $\\geq 80\\%$ validation accuracy. (5 points)"
      ]
    },
    {
      "cell_type": "markdown",
      "metadata": {
        "id": "SAsw3u4ezICv"
      },
      "source": [
        "### Submission Notes\n",
        "\n",
        "Please use Jupyter Notebook. The notebook should include the final code, results and your answers. You should submit your Notebook in (.pdf or .html) and .ipynb format. (penalty 10 points)\n",
        "\n",
        "To reduce the parameters, you can merge all words that occur less often than a threshold into a special rare token (\\__unk__).\n",
        "\n",
        "**Instructions：**\n",
        "\n",
        "The university policy on academic dishonesty and plagiarism (cheating) will be taken very seriously in this course. Everything submitted should be your own writing or coding. You must not let other students copy your work. Spelling and grammar count.\n",
        "\n",
        "Your assignments will be marked based on correctness, originality (the implementations and ideas are from yourself), and test performance.\n",
        "\n"
      ]
    },
    {
      "cell_type": "markdown",
      "metadata": {
        "id": "oDUNZ8a6zICv"
      },
      "source": [
        "## Your Implementation"
      ]
    },
    {
      "cell_type": "code",
      "source": [
        "import numpy as np\n",
        "import torch\n",
        "from torch import nn\n",
        "import pandas as pd\n",
        "import nltk\n",
        "from nltk.tokenize import word_tokenize\n",
        "import torch.nn.functional as F\n",
        "import torch.optim as optim\n",
        "nltk.download('punkt')\n",
        "from collections import Counter\n",
        "import matplotlib.pyplot as plt\n",
        "from torch.utils.data import Dataset, DataLoader\n",
        "from nltk.tokenize import sent_tokenize\n",
        "device = 'cuda' if torch.cuda.is_available() else 'cpu'"
      ],
      "metadata": {
        "colab": {
          "base_uri": "https://localhost:8080/",
          "height": 0
        },
        "id": "q-DixYsTjhKj",
        "outputId": "85daafb7-a9f9-49fa-840e-531265ae1688"
      },
      "execution_count": 1,
      "outputs": [
        {
          "output_type": "stream",
          "name": "stderr",
          "text": [
            "[nltk_data] Downloading package punkt to /root/nltk_data...\n",
            "[nltk_data]   Unzipping tokenizers/punkt.zip.\n"
          ]
        }
      ]
    },
    {
      "cell_type": "markdown",
      "metadata": {
        "id": "j9QxJU2fzICv"
      },
      "source": [
        "### 1. Implement a RNN based language model"
      ]
    },
    {
      "cell_type": "code",
      "source": [
        "!unzip data.zip"
      ],
      "metadata": {
        "id": "3AjZ2kbrmZ6N"
      },
      "execution_count": null,
      "outputs": []
    },
    {
      "cell_type": "code",
      "source": [
        "import tqdm\n",
        "\n",
        "# device = 'cuda' if torch.cuda.is_available() else 'cpu'\n",
        "class data_set(Dataset):\n",
        "  def __init__(self, data_path='./data/English Literature.txt'):\n",
        "    with open(data_path, encoding=\"ISO-8859-1\", mode='r')as f:\n",
        "      self.data =f.read()\n",
        "    self.el_tokens = word_tokenize(self.data.lower())\n",
        "    self.vocabulary = set(self.el_tokens)\n",
        "    self.word_index = {word: index for index, word in enumerate(self.vocabulary)}\n",
        "    self.vacabulary_size = len(self.vocabulary)\n",
        "\n",
        "  def __len__(self):\n",
        "    return len(self.el_tokens)-1\n",
        "\n",
        "  def one_hot(self, word):\n",
        "    one_hot_vector = torch.zeros(self.vacabulary_size)\n",
        "    one_hot_vector[self.word_index[word]] = 1\n",
        "    return one_hot_vector\n",
        "\n",
        "  def __getitem__(self, index):\n",
        "    return (self.one_hot(self.el_tokens[index]),self.one_hot(self.el_tokens[index+1]))\n",
        "batch_size = 32\n",
        "hidden_size = 500\n",
        "dataset = data_set()\n",
        "dataloader = DataLoader(dataset, batch_size, shuffle=True)\n",
        "\n",
        "input_size = len(dataset.vocabulary)\n",
        "output_size = len(dataset.vocabulary)\n",
        "epochs=5\n",
        "\n",
        "\n",
        "class ElmanRNN(nn.Module):\n",
        "  def __init__(self, vocab_size, hidden_size, output_size, batch_size):\n",
        "    super(ElmanRNN, self).__init__()\n",
        "    self.batch_size = batch_size\n",
        "    self.hidden_size = hidden_size\n",
        "    #self.embed = nn.Embedding(vocab_size, hidden_size)\n",
        "    self.rnn = nn.RNN(vocab_size, hidden_size, batch_first=True)\n",
        "    self.fc = nn.Linear(hidden_size, output_size)\n",
        "\n",
        "  def forward(self, x, h0):\n",
        "    out, hidden = self.rnn(x,h0)\n",
        "    out = self.fc(out)\n",
        "    return out, hidden\n",
        "  def initHidden(self):\n",
        "    return torch.zeros(1, self.hidden_size)\n",
        "\n",
        "\n",
        "\n",
        "\n",
        "model1 = ElmanRNN(input_size, hidden_size, output_size, batch_size).to(device)\n",
        "criterion=nn.CrossEntropyLoss()\n",
        "optimizer = torch.optim.Adam(model1.parameters(), lr=0.0001)\n",
        "loss_values=[]\n",
        "\n",
        "for epoch in tqdm.tqdm(range(epochs)):\n",
        "  total_loss = 0\n",
        "  h0 = model1.initHidden().to(device)\n",
        "  for step, (x,y) in (enumerate(dataloader)):\n",
        "    x = x.to(device)\n",
        "    y = y.to(device)\n",
        "    optimizer.zero_grad()\n",
        "    output,hidden = model1(x,h0)\n",
        "    loss = criterion(output, y)\n",
        "    loss.backward()\n",
        "    optimizer.step()\n",
        "    total_loss += loss.item()\n",
        "  avg_loss = total_loss/len(dataloader)\n",
        "  print(f\"Epoch {epoch} Loss: {avg_loss}\")\n",
        "  loss_values.append(avg_loss)\n",
        "\n",
        "plt.plot(loss_values, label='Training Loss')\n",
        "plt.xlabel('Epochs')\n",
        "plt.ylabel('Cross-Entropy Loss')\n",
        "plt.title('Training Loss Over Time')\n",
        "plt.legend()\n",
        "plt.show()\n",
        "\n"
      ],
      "metadata": {
        "id": "EAXRdQxpkJoU",
        "colab": {
          "base_uri": "https://localhost:8080/",
          "height": 576
        },
        "outputId": "8a22b821-348a-46b6-e045-c26bc6afebba"
      },
      "execution_count": 3,
      "outputs": [
        {
          "output_type": "stream",
          "name": "stderr",
          "text": [
            " 20%|██        | 1/5 [00:58<03:52, 58.16s/it]"
          ]
        },
        {
          "output_type": "stream",
          "name": "stdout",
          "text": [
            "Epoch 0 Loss: 6.312484109164903\n"
          ]
        },
        {
          "output_type": "stream",
          "name": "stderr",
          "text": [
            "\r 40%|████      | 2/5 [01:55<02:53, 57.94s/it]"
          ]
        },
        {
          "output_type": "stream",
          "name": "stdout",
          "text": [
            "Epoch 1 Loss: 5.7717783858136436\n"
          ]
        },
        {
          "output_type": "stream",
          "name": "stderr",
          "text": [
            "\r 60%|██████    | 3/5 [02:44<01:47, 53.75s/it]"
          ]
        },
        {
          "output_type": "stream",
          "name": "stdout",
          "text": [
            "Epoch 2 Loss: 5.488251331270955\n"
          ]
        },
        {
          "output_type": "stream",
          "name": "stderr",
          "text": [
            "\r 80%|████████  | 4/5 [03:31<00:51, 51.15s/it]"
          ]
        },
        {
          "output_type": "stream",
          "name": "stdout",
          "text": [
            "Epoch 3 Loss: 5.331547078038389\n"
          ]
        },
        {
          "output_type": "stream",
          "name": "stderr",
          "text": [
            "100%|██████████| 5/5 [04:18<00:00, 51.79s/it]"
          ]
        },
        {
          "output_type": "stream",
          "name": "stdout",
          "text": [
            "Epoch 4 Loss: 5.229494723904693\n"
          ]
        },
        {
          "output_type": "stream",
          "name": "stderr",
          "text": [
            "\n"
          ]
        },
        {
          "output_type": "display_data",
          "data": {
            "text/plain": [
              "<Figure size 640x480 with 1 Axes>"
            ],
            "image/png": "[encoded data removed]"
          },
          "metadata": {}
        }
      ]
    },
    {
      "cell_type": "markdown",
      "metadata": {
        "id": "hEkaZDw6zICv"
      },
      "source": [
        "### 2. Train the Elman network with BTT"
      ]
    },
    {
      "cell_type": "code",
      "source": [
        "\n",
        "class SequenceDataset(Dataset):\n",
        "    def __init__(self, data_path,truncate_length):\n",
        "      with open(data_path, encoding=\"ISO-8859-1\", mode='r') as file:\n",
        "          self.data = file.read().lower()\n",
        "      self.sentences = sent_tokenize(self.data.lower())\n",
        "      self.sentence_tokenize = [word_tokenize(sentence) for sentence in self.sentences]\n",
        "      self.el_tokens = word_tokenize(self.data.lower())\n",
        "      self.vocabulary = set(self.el_tokens)\n",
        "      self.word_index = {word: index for index, word in enumerate(self.vocabulary)}\n",
        "      self.vacabulary_size = len(self.vocabulary)\n",
        "      self.tokenize_truncate = []\n",
        "      for sentence in self.sentence_tokenize:\n",
        "        if len(sentence) > truncate_length:\n",
        "          self.tokenize_truncate.append(sentence[:truncate_length])\n",
        "        else:\n",
        "          self.tokenize_truncate.append(sentence)\n",
        "\n",
        "\n",
        "\n",
        "    def __len__(self):\n",
        "        return len(self.tokenize_truncate)\n",
        "\n",
        "    def one_hot_encode(self, idx):\n",
        "        one_hot =[0] * self.vacabulary_size\n",
        "        one_hot[idx] = 1\n",
        "        return one_hot\n",
        "\n",
        "    def one_hot_sentence(self, sentence):\n",
        "        # words = word_tokenize(sentence)\n",
        "        one_hot_sentence = [self.one_hot_encode(self.word_index[word]) for word in sentence]\n",
        "        return one_hot_sentence\n",
        "\n",
        "    def __getitem__(self, idx):\n",
        "        sentence = self.tokenize_truncate[idx]\n",
        "        return torch.tensor(self.one_hot_sentence(sentence), dtype=torch.float32)\n",
        "\n",
        "\n",
        "hidden_size = 500\n",
        "truncate_length=25\n",
        "batch_size = 1\n",
        "data_path='./data/English Literature.txt'\n",
        "dataset2 = SequenceDataset(data_path, truncate_length)\n",
        "dataloader2 = DataLoader(dataset2, batch_size=batch_size, shuffle=True)\n",
        "learning_rate = 0.00005\n",
        "vocab_size =12443\n",
        "\n",
        "\n",
        "class ElmanRNNBTT(nn.Module):\n",
        "  def __init__(self, vocab_size, hidden_size, output_size, batch_size):\n",
        "    super(ElmanRNNBTT, self).__init__()\n",
        "    self.batch_size = batch_size\n",
        "    self.hidden_size = hidden_size\n",
        "    #self.embed = nn.Embedding(vocab_size, hidden_size)\n",
        "    self.rnn = nn.RNN(vocab_size, hidden_size, batch_first=True)\n",
        "    self.fc = nn.Linear(hidden_size, output_size)\n",
        "\n",
        "  def forward(self, x, h0):\n",
        "    out, hidden = self.rnn(x,h0)\n",
        "    out = self.fc(out)\n",
        "    return out, hidden\n",
        "  def initHidden(self):\n",
        "    return torch.zeros(self.batch_size, self.hidden_size)\n",
        "\n",
        "\n",
        "\n",
        "\n",
        "model2 = ElmanRNNBTT(vocab_size, hidden_size, vocab_size, batch_size).to(device)\n",
        "criterion = nn.CrossEntropyLoss()\n",
        "optimizer = optim.Adam(model2.parameters(), lr=learning_rate)\n",
        "epochs = 5\n",
        "loss_values=[]\n",
        "\n",
        "# Training Loop\n",
        "for epoch in range(epochs):\n",
        "    total_loss = 0\n",
        "    hidden = model2.initHidden().to(device)\n",
        "    for step, sentence in (enumerate(dataloader2)):\n",
        "        sentence = sentence.to(device)\n",
        "        target = sentence.clone()\n",
        "        loss=0\n",
        "        for i in range(sentence.size(1)):\n",
        "         output, hidden = model2(sentence[:, i,:], hidden.detach())\n",
        "         loss += criterion(output, target[:, i,:])\n",
        "\n",
        "        optimizer.zero_grad()\n",
        "        loss.backward()\n",
        "        optimizer.step()\n",
        "\n",
        "        total_loss += loss.item()/sentence.size(1)\n",
        "    avg_loss = total_loss/len(dataloader2)\n",
        "    loss_values.append(avg_loss)\n",
        "    print(f'Epoch {epoch+1}, Loss: {avg_loss:.4f}')\n",
        "\n",
        "plt.plot(loss_values, label='Training Loss')\n",
        "plt.xlabel('Epochs')\n",
        "plt.ylabel('Cross-Entropy Loss')\n",
        "plt.title('Training Loss Over Time')\n",
        "plt.legend()\n",
        "plt.show()"
      ],
      "metadata": {
        "id": "4Ay35GUjvwSG",
        "colab": {
          "base_uri": "https://localhost:8080/",
          "height": 559
        },
        "outputId": "e009078c-b333-413a-d4c6-415323079a7d"
      },
      "execution_count": 34,
      "outputs": [
        {
          "output_type": "stream",
          "name": "stdout",
          "text": [
            "Epoch 1, Loss: 4.6710\n",
            "Epoch 2, Loss: 2.5827\n",
            "Epoch 3, Loss: 1.9118\n",
            "Epoch 4, Loss: 1.5554\n",
            "Epoch 5, Loss: 1.3221\n"
          ]
        },
        {
          "output_type": "display_data",
          "data": {
            "text/plain": [
              "<Figure size 640x480 with 1 Axes>"
            ],
            "image/png": "[encoded data removed]"
          },
          "metadata": {}
        }
      ]
    },
    {
      "cell_type": "markdown",
      "metadata": {
        "id": "sq2rjOuizICw"
      },
      "source": [
        "### 3. Improve your Elman network with GRU"
      ]
    },
    {
      "cell_type": "code",
      "source": [
        "\n",
        "class GRUDataset(Dataset):\n",
        "    def __init__(self, data_path,truncate_length):\n",
        "      with open(data_path, encoding=\"ISO-8859-1\", mode='r') as file:\n",
        "          self.data = file.read().lower()\n",
        "      self.sentences = sent_tokenize(self.data.lower())\n",
        "      self.sentence_tokenize = [word_tokenize(sentence) for sentence in self.sentences]\n",
        "      self.el_tokens = word_tokenize(self.data.lower())\n",
        "      self.vocabulary = set(self.el_tokens)\n",
        "      self.word_index = {word: index for index, word in enumerate(self.vocabulary)}\n",
        "      self.vacabulary_size = len(self.vocabulary)\n",
        "      self.tokenize_truncate = []\n",
        "      for sentence in self.sentence_tokenize:\n",
        "        if len(sentence) > truncate_length:\n",
        "          self.tokenize_truncate.append(sentence[:truncate_length])\n",
        "        else:\n",
        "          self.tokenize_truncate.append(sentence)\n",
        "\n",
        "\n",
        "\n",
        "    def __len__(self):\n",
        "        return len(self.tokenize_truncate)\n",
        "\n",
        "    def one_hot_encode(self, idx):\n",
        "        one_hot =[0] * self.vacabulary_size\n",
        "        one_hot[idx] = 1\n",
        "        return one_hot\n",
        "\n",
        "    def one_hot_sentence(self, sentence):\n",
        "        # words = word_tokenize(sentence)\n",
        "        one_hot_sentence = [self.one_hot_encode(self.word_index[word]) for word in sentence]\n",
        "        return one_hot_sentence\n",
        "\n",
        "    def __getitem__(self, idx):\n",
        "        sentence = self.tokenize_truncate[idx]\n",
        "        return torch.tensor(self.one_hot_sentence(sentence), dtype=torch.float32)\n",
        "\n",
        "\n",
        "hidden_size = 500\n",
        "truncate_length=25\n",
        "batch_size = 1\n",
        "data_path='./data/English Literature.txt'\n",
        "dataset3 = GRUDataset(data_path, truncate_length)\n",
        "dataloader3 = DataLoader(dataset3, batch_size=batch_size, shuffle=True)\n",
        "learning_rate = 0.00005\n",
        "vocab_size =12443\n",
        "\n",
        "\n",
        "class ElmanRNNGRU(nn.Module):\n",
        "  def __init__(self, vocab_size, hidden_size, output_size, batch_size):\n",
        "    super(ElmanRNNGRU, self).__init__()\n",
        "    self.batch_size = batch_size\n",
        "    self.hidden_size = hidden_size\n",
        "    #self.embed = nn.Embedding(vocab_size, hidden_size)\n",
        "    self.rnn = nn.GRU(vocab_size, hidden_size, batch_first=True)\n",
        "    self.fc = nn.Linear(hidden_size, output_size)\n",
        "\n",
        "  def forward(self, x, h0):\n",
        "    out, hidden = self.rnn(x,h0)\n",
        "    out = self.fc(out)\n",
        "    return out, hidden\n",
        "  def initHidden(self):\n",
        "    return torch.zeros(self.batch_size, self.hidden_size)\n",
        "\n",
        "\n",
        "\n",
        "\n",
        "model3 = ElmanRNNGRU(vocab_size, hidden_size, vocab_size, batch_size).to(device)\n",
        "criterion = nn.CrossEntropyLoss()\n",
        "optimizer = optim.Adam(model3.parameters(), lr=learning_rate)\n",
        "epochs = 5\n",
        "loss_values=[]\n",
        "\n",
        "# Training Loop\n",
        "for epoch in range(epochs):\n",
        "    total_loss = 0\n",
        "    hidden = model3.initHidden().to(device)\n",
        "    for step, sentence in (enumerate(dataloader3)):\n",
        "        sentence = sentence.to(device)\n",
        "        target = sentence.clone()\n",
        "        loss=0\n",
        "        for i in range(sentence.size(1)):\n",
        "         output, hidden = model3(sentence[:, i,:], hidden.detach())\n",
        "         loss += criterion(output, target[:, i,:])\n",
        "\n",
        "        optimizer.zero_grad()\n",
        "        loss.backward()\n",
        "        optimizer.step()\n",
        "\n",
        "        total_loss += loss.item()/sentence.size(1)\n",
        "    avg_loss = total_loss/len(dataloader3)\n",
        "    loss_values.append(avg_loss)\n",
        "    print(f'Epoch {epoch+1}, Loss: {avg_loss:.4f}')\n",
        "\n",
        "plt.plot(loss_values, label='Training Loss')\n",
        "plt.xlabel('Epochs')\n",
        "plt.ylabel('Cross-Entropy Loss')\n",
        "plt.title('Training Loss Over Time')\n",
        "plt.legend()\n",
        "plt.show()"
      ],
      "metadata": {
        "id": "N5aQOOura5Fq",
        "colab": {
          "base_uri": "https://localhost:8080/",
          "height": 559
        },
        "outputId": "57221834-ec73-4145-d447-fbcf1d491201"
      },
      "execution_count": 36,
      "outputs": [
        {
          "output_type": "stream",
          "name": "stdout",
          "text": [
            "Epoch 1, Loss: 4.4729\n",
            "Epoch 2, Loss: 4.8641\n",
            "Epoch 3, Loss: 1.8903\n",
            "Epoch 4, Loss: 1.4396\n",
            "Epoch 5, Loss: 1.1929\n"
          ]
        },
        {
          "output_type": "display_data",
          "data": {
            "text/plain": [
              "<Figure size 640x480 with 1 Axes>"
            ],
            "image/png": "[encoded data removed]"
          },
          "metadata": {}
        }
      ]
    },
    {
      "cell_type": "code",
      "source": [
        "# 3b\n",
        "\n",
        "import random\n",
        "import torch.nn.functional as F\n",
        "\n",
        "data_path='./data/English Literature.txt'\n",
        "with open(data_path, encoding=\"ISO-8859-1\", mode='r')as f:\n",
        "  data =f.read()\n",
        "el_tokens = word_tokenize(data.lower())\n",
        "vocabulary = set(el_tokens)\n",
        "vocabulary = list(vocabulary)\n",
        "\n",
        "num_sentences = 10\n",
        "sentence_length = 15\n",
        "\n",
        "def generate_one_hot(idx, vocab_size):\n",
        "    return [1 if i == idx else 0 for i in range(vocab_size)]\n",
        "\n",
        "def generate_words(model, start_idx, vocab, hidden_size, sentence_length):\n",
        "    vocab_size = len(vocab)\n",
        "    sentence_idxs = [start_idx]\n",
        "    model.eval()\n",
        "    model.to(device)\n",
        "    hidden = torch.zeros(1, hidden_size).to(device)\n",
        "    input_tensor = torch.tensor([generate_one_hot(start_idx, vocab_size)], dtype=torch.float32).to(device)\n",
        "\n",
        "    with torch.no_grad():\n",
        "        for _ in range(sentence_length - 1):\n",
        "            output, hidden = model(input_tensor, hidden)\n",
        "            next_idx = torch.argmax(F.softmax(output, dim=1)[-1]).item()\n",
        "            sentence_idxs.append(next_idx)\n",
        "            input_tensor = torch.tensor([generate_one_hot(next_idx, vocab_size)], dtype=torch.float32).to(device)\n",
        "\n",
        "    return ' '.join(vocab[i] for i in sentence_idxs)\n",
        "\n",
        "vocab_size = len(vocabulary)  # Assuming vocabulary is predefined\n",
        "device = torch.device(\"cuda\" if torch.cuda.is_available() else \"cpu\")\n",
        "\n",
        "sentence1, sentences2, sentences3= [], [],[]\n",
        "\n",
        "for _ in range(num_sentences):\n",
        "    start_idx = random.randint(0, vocab_size - 1)\n",
        "    sentence1.append(generate_words(model1, start_idx, vocabulary, hidden_size, sentence_length))\n",
        "    sentences2.append(generate_words(model2, start_idx, vocabulary, hidden_size, sentence_length))\n",
        "    sentences3.append(generate_words(model3, start_idx, vocabulary, hidden_size, sentence_length))\n",
        "\n",
        "print(\"First model\")\n",
        "for sentence in sentence1:\n",
        "    print(sentence)\n",
        "print(\"Second model\")\n",
        "for sentence in sentences2:\n",
        "    print(sentence)\n",
        "print(\"Third model\")\n",
        "for sentence in sentences3:\n",
        "    print(sentence)\n"
      ],
      "metadata": {
        "id": "qBgmYh2hs6yu",
        "colab": {
          "base_uri": "https://localhost:8080/",
          "height": 0
        },
        "outputId": "18ea6053-386b-4579-974a-99d47db55972"
      },
      "execution_count": 6,
      "outputs": [
        {
          "output_type": "stream",
          "name": "stdout",
          "text": [
            "First model\n",
            "fire , and i am a man , and i am a man , and\n",
            "interpreters , and i am a man , and i am a man , and\n",
            "helping , and i am a man , and i am a man , and\n",
            "immoderate , and i am a man , and i am a man , and\n",
            "folds-in , and i am a man , and i am a man , and\n",
            "welcome , and i am a man , and i am a man , and\n",
            "across , and i am a man , and i am a man , and\n",
            "titles , and i am a man , and i am a man , and\n",
            "forbidden , and i am a man , and i am a man , and\n",
            "extol , and i am a man , and i am a man , and\n",
            "Second model\n",
            "fire fire fire fire fire fire fire fire fire fire fire fire fire fire fire\n",
            "interpreters into into into into into into into into into into into into into into\n",
            "helping years years years years years years years years years years years years years years\n",
            "immoderate into into into into into into into into into into into into into into\n",
            "folds-in years years years years years years years years years years years years years years\n",
            "welcome welcome welcome welcome welcome welcome welcome welcome welcome welcome welcome welcome welcome welcome welcome\n",
            "across off off off off off off off off off off off off off off\n",
            "titles off off off off off off off off off off off off off off\n",
            "forbidden into into into into into into into into into into into into into into\n",
            "extol into into into into into into into into into into into into into into\n",
            "Third model\n",
            "fire fire fire fire fire fire fire fire fire fire fire fire fire fire fire\n",
            "interpreters overta'en with with with with with with with with with with with with with\n",
            "helping overta'en with with with with with with with with with with with with with\n",
            "immoderate overta'en with with with with with with with with with with with with with\n",
            "folds-in overta'en with with with with with with with with with with with with with\n",
            "welcome welcome welcome welcome welcome welcome welcome welcome welcome welcome welcome welcome welcome welcome welcome\n",
            "across across with with with with with with with with with with with with with\n",
            "titles overta'en with with with with with with with with with with with with with\n",
            "forbidden overta'en with with with with with with with with with with with with with\n",
            "extol : : : : : : : : : : : : : :\n"
          ]
        }
      ]
    },
    {
      "cell_type": "markdown",
      "metadata": {
        "id": "B5IZyH62zICw"
      },
      "source": [
        "### 4. Implement a text classification model"
      ]
    },
    {
      "cell_type": "code",
      "execution_count": 7,
      "metadata": {
        "id": "q1-ds2YMzICw",
        "colab": {
          "base_uri": "https://localhost:8080/",
          "height": 0
        },
        "outputId": "2f01aa03-edee-45ad-9e71-de7f6ba7e552"
      },
      "outputs": [
        {
          "output_type": "stream",
          "name": "stdout",
          "text": [
            "Category:comp.windows.x\n",
            "Category:talk.politics.guns\n",
            "Category:talk.politics.mideast\n",
            "Category:comp.graphics\n",
            "Category:rec.sport.hockey\n",
            "Category:talk.politics.misc\n",
            "Category:comp.sys.ibm.pc.hardware\n",
            "Category:soc.religion.christian\n",
            "Category:rec.motorcycles\n",
            "Category:rec.sport.baseball\n",
            "Category:comp.os.ms-windows.misc\n",
            "Category:comp.sys.mac.hardware\n",
            "Category:rec.autos\n",
            "Category:talk.religion.misc\n"
          ]
        }
      ],
      "source": [
        "\"\"\"This code is used to read all news and their labels\"\"\"\n",
        "import os\n",
        "import glob\n",
        "\n",
        "def to_categories(name, cat=[\"politics\",\"rec\",\"comp\",\"religion\"]):\n",
        "    for i in range(len(cat)):\n",
        "        if str.find(name,cat[i])>-1:\n",
        "            return(i)\n",
        "    print(\"Unexpected folder: \" + name) # print the folder name which does not include expected categories\n",
        "    return(\"wth\")\n",
        "\n",
        "def data_loader(images_dir):\n",
        "    categories = os.listdir(data_path)\n",
        "    news = [] # news content\n",
        "    groups = [] # category which it belong to\n",
        "\n",
        "    for cat in categories:\n",
        "        print(\"Category:\"+cat)\n",
        "        for the_new_path in glob.glob(data_path + '/' + cat + '/*'):\n",
        "            news.append(open(the_new_path,encoding = \"ISO-8859-1\", mode ='r').read())\n",
        "            groups.append(cat)\n",
        "\n",
        "    return news, list(map(to_categories, groups))\n",
        "\n",
        "\n",
        "\n",
        "data_path = \"data/20news_subsampled\"\n",
        "news, groups = data_loader(data_path)"
      ]
    },
    {
      "cell_type": "code",
      "source": [
        "print(len(news[0]))\n",
        "print(type(groups))"
      ],
      "metadata": {
        "id": "hhvqqsv-d4ye",
        "colab": {
          "base_uri": "https://localhost:8080/",
          "height": 0
        },
        "outputId": "de7997bc-e59f-46a0-dd72-b9474284e815"
      },
      "execution_count": 8,
      "outputs": [
        {
          "output_type": "stream",
          "name": "stdout",
          "text": [
            "1096\n",
            "<class 'list'>\n"
          ]
        }
      ]
    },
    {
      "cell_type": "code",
      "execution_count": 43,
      "metadata": {
        "id": "CY32RLu0zICy"
      },
      "outputs": [],
      "source": [
        "from torch.utils.data import random_split\n",
        "\n",
        "\n",
        "\n",
        "class data_set4(Dataset):\n",
        "    def __init__(self, news, groups):\n",
        "        self.news = news\n",
        "        self.groups = groups\n",
        "        self.vocab=[]\n",
        "        self.file=[]\n",
        "        for new in self.news:\n",
        "          self.file.append(word_tokenize(new))\n",
        "          self.vocab+=word_tokenize(new)\n",
        "        self.vocab=set(self.vocab)\n",
        "\n",
        "        self.vocab_size = len(self.vocab)\n",
        "        self.word_index = {word: idx for idx, word in enumerate(self.vocab)}\n",
        "\n",
        "\n",
        "    def __len__(self):\n",
        "        return len(self.news)\n",
        "\n",
        "    def one_hot_encode(self, idx):\n",
        "        one_hot = torch.zeros(self.vocab_size)\n",
        "        one_hot[idx] = 1\n",
        "        return one_hot\n",
        "\n",
        "    def one_hot_file(self, file):\n",
        "        # words = word_tokenize(sentence)\n",
        "        one_hot_file = [self.one_hot_encode(self.word_index[word]) for word in file]\n",
        "        return one_hot_file\n",
        "\n",
        "\n",
        "    def __getitem__(self, idx):\n",
        "        file = self.file[idx]\n",
        "        category = self.groups[idx]\n",
        "        target = torch.zeros(4)\n",
        "        target[category] = 1\n",
        "        return self.one_hot_file(file), target\n",
        "\n",
        "\n",
        "data_set4 = data_set4(news, groups)\n",
        "\n",
        "total_size=len(data_set4)\n",
        "train_size=int(total_size*0.9)\n",
        "val_size=total_size-train_size\n",
        "train_set, val_set = random_split(data_set4, [train_size, val_size])\n",
        "data_loader4_train = DataLoader(train_set, shuffle=True)\n",
        "data_loader4_val = DataLoader(val_set, shuffle=True)\n",
        "\n",
        "\n",
        "class TextRNN(nn.Module):\n",
        "    def __init__(self, input_dim, hidden_dim, output_dim):\n",
        "        super(TextRNN, self).__init__()\n",
        "        self.rnn = nn.RNN(input_dim, hidden_dim, batch_first=True)\n",
        "        self.fc = nn.Linear(hidden_dim, output_dim)\n",
        "\n",
        "    def forward(self, x):\n",
        "        out, _ = self.rnn(x)\n",
        "        out = self.fc(out)\n",
        "        return out\n",
        "\n",
        "\n",
        "input_dim = len(data_set4.vocab)\n",
        "hidden_dim = 500\n",
        "output_dim = 4\n",
        "model = TextRNN(input_dim, hidden_dim, output_dim)\n",
        "\n",
        "\n",
        "criterion = nn.CrossEntropyLoss()\n",
        "optimizer = optim.Adam(model.parameters(), lr=0.001)\n",
        "num_epochs = 10\n",
        "losses = []\n",
        "\n"
      ]
    },
    {
      "cell_type": "code",
      "source": [
        "for epoch in range(epochs):\n",
        "  total_loss = 0\n",
        "  for new, target in (data_loader4_train):\n",
        "      hidden = torch.zeros(1, hidden_size).to(device)\n",
        "      output= model(torch.stack(new))\n",
        "      output = output[:, -1, :].squeeze(1)\n",
        "      from pdb import set_trace\n",
        "      set_trace()\n",
        "      loss = criterion(output.unsqueeze(0), torch.tensor(target))\n",
        "      optimizer.zero_grad()  # Clear previous gradients\n",
        "      loss.backward()\n",
        "      optimizer.step()\n",
        "\n",
        "      total_loss += loss.item()\n",
        "\n",
        "  avg_loss = total_loss / len(dataloader)\n",
        "  losses.append(avg_loss)\n",
        "  print(f\"Epoch {epoch + 1}/{epochs}, training Loss: {avg_loss:.4f}\")\n",
        "\n",
        "model.eval()\n",
        "total_loss = 0\n",
        "with torch.no_grad():\n",
        "    for batch in data_loader4_val:\n",
        "        inputs, labels = batch\n",
        "        outputs = model(torch.stack(inputs).unsqueeze(0))\n",
        "        loss = criterion(outputs[:, -1, :], labels.long())\n",
        "        total_loss += loss.item()\n",
        "avg_loss = total_loss / len(data_loader4_val)\n",
        "print(f\"Validation Loss: {avg_loss:.4f}\")"
      ],
      "metadata": {
        "colab": {
          "base_uri": "https://localhost:8080/",
          "height": 1000
        },
        "id": "kSUWcKKKmC8F",
        "outputId": "e3d326f8-6ece-435f-e90f-8cc1823f76c5"
      },
      "execution_count": 51,
      "outputs": [
        {
          "output_type": "stream",
          "name": "stderr",
          "text": [
            "\n",
            "PYDEV DEBUGGER WARNING:\n",
            "sys.settrace() should not be used when the debugger is being used.\n",
            "This may cause the debugger to stop working correctly.\n",
            "If this is needed, please check: \n",
            "http://pydev.blogspot.com/2007/06/why-cant-pydev-debugger-work-with.html\n",
            "to see how to restore the debug tracing back correctly.\n",
            "Call Location:\n",
            "  File \"/usr/lib/python3.10/bdb.py\", line 336, in set_trace\n",
            "    sys.settrace(self.trace_dispatch)\n",
            "\n"
          ]
        },
        {
          "output_type": "stream",
          "name": "stdout",
          "text": [
            "> \u001b[0;32m<ipython-input-51-0930d2f18734>\u001b[0m(9)\u001b[0;36m<cell line: 1>\u001b[0;34m()\u001b[0m\n",
            "\u001b[0;32m      7 \u001b[0;31m      \u001b[0;32mfrom\u001b[0m \u001b[0mpdb\u001b[0m \u001b[0;32mimport\u001b[0m \u001b[0mset_trace\u001b[0m\u001b[0;34m\u001b[0m\u001b[0;34m\u001b[0m\u001b[0m\n",
            "\u001b[0m\u001b[0;32m      8 \u001b[0;31m      \u001b[0mset_trace\u001b[0m\u001b[0;34m(\u001b[0m\u001b[0;34m)\u001b[0m\u001b[0;34m\u001b[0m\u001b[0;34m\u001b[0m\u001b[0m\n",
            "\u001b[0m\u001b[0;32m----> 9 \u001b[0;31m      \u001b[0mloss\u001b[0m \u001b[0;34m=\u001b[0m \u001b[0mcriterion\u001b[0m\u001b[0;34m(\u001b[0m\u001b[0moutput\u001b[0m\u001b[0;34m.\u001b[0m\u001b[0munsqueeze\u001b[0m\u001b[0;34m(\u001b[0m\u001b[0;36m0\u001b[0m\u001b[0;34m)\u001b[0m\u001b[0;34m,\u001b[0m \u001b[0mtorch\u001b[0m\u001b[0;34m.\u001b[0m\u001b[0mtensor\u001b[0m\u001b[0;34m(\u001b[0m\u001b[0mtarget\u001b[0m\u001b[0;34m)\u001b[0m\u001b[0;34m)\u001b[0m\u001b[0;34m\u001b[0m\u001b[0;34m\u001b[0m\u001b[0m\n",
            "\u001b[0m\u001b[0;32m     10 \u001b[0;31m      \u001b[0moptimizer\u001b[0m\u001b[0;34m.\u001b[0m\u001b[0mzero_grad\u001b[0m\u001b[0;34m(\u001b[0m\u001b[0;34m)\u001b[0m  \u001b[0;31m# Clear previous gradients\u001b[0m\u001b[0;34m\u001b[0m\u001b[0;34m\u001b[0m\u001b[0m\n",
            "\u001b[0m\u001b[0;32m     11 \u001b[0;31m      \u001b[0mloss\u001b[0m\u001b[0;34m.\u001b[0m\u001b[0mbackward\u001b[0m\u001b[0;34m(\u001b[0m\u001b[0;34m)\u001b[0m\u001b[0;34m\u001b[0m\u001b[0;34m\u001b[0m\u001b[0m\n",
            "\u001b[0m\n",
            "ipdb> output.shape\n",
            "torch.Size([168, 4])\n",
            "ipdb> type(output), type(target)\n",
            "(<class 'torch.Tensor'>, <class 'torch.Tensor'>)\n",
            "ipdb> output\n",
            "tensor([[ 1.3995e-03,  4.8282e-02,  2.4674e-03,  2.7331e-02],\n",
            "        [-6.0918e-03,  1.0472e-02,  2.2223e-02, -1.2876e-02],\n",
            "        [-7.7186e-03,  3.5809e-02,  1.0677e-02,  2.1045e-02],\n",
            "        [ 3.1221e-03,  1.2763e-02,  2.7101e-02,  1.3331e-02],\n",
            "        [ 6.5018e-03,  4.4071e-02,  2.8229e-02,  7.2724e-03],\n",
            "        [-1.3070e-02,  4.3770e-02,  2.3662e-02,  5.6891e-05],\n",
            "        [ 1.9992e-03,  3.2892e-02,  4.1409e-02,  4.8678e-03],\n",
            "        [-3.7402e-04,  2.2599e-02, -3.7093e-03,  8.9260e-03],\n",
            "        [ 1.7747e-02,  3.3875e-02,  1.4903e-02,  1.1383e-02],\n",
            "        [-5.0961e-03,  5.5171e-04,  1.8704e-02,  3.1897e-02],\n",
            "        [-6.0918e-03,  1.0472e-02,  2.2223e-02, -1.2876e-02],\n",
            "        [-1.3243e-02,  1.2792e-02,  1.0894e-02,  2.5291e-02],\n",
            "        [-6.0918e-03,  1.0472e-02,  2.2223e-02, -1.2876e-02],\n",
            "        [-2.6496e-02,  3.0610e-02,  2.3568e-02,  3.3085e-02],\n",
            "        [-7.5988e-05,  4.1055e-02,  2.4504e-02,  3.2994e-02],\n",
            "        [ 2.8465e-02,  1.9918e-02,  4.1210e-03,  2.7087e-02],\n",
            "        [-6.9732e-03,  4.0379e-02,  3.9771e-02,  3.3140e-02],\n",
            "        [ 1.1039e-03,  1.7634e-02,  2.8752e-02, -1.2446e-02],\n",
            "        [ 3.4689e-03,  3.5604e-02,  4.3356e-02,  2.5609e-02],\n",
            "        [ 1.8938e-02,  1.3769e-02,  7.5700e-03,  2.0681e-02],\n",
            "        [ 3.1221e-03,  1.2763e-02,  2.7101e-02,  1.3331e-02],\n",
            "        [-3.1057e-02,  3.0123e-02,  5.8714e-03,  2.1941e-02],\n",
            "        [ 5.5028e-03,  1.3199e-02,  1.7938e-02, -1.3331e-02],\n",
            "        [-1.0202e-02,  1.2808e-02,  2.9732e-02,  1.8432e-02],\n",
            "        [ 3.1221e-03,  1.2763e-02,  2.7101e-02,  1.3331e-02],\n",
            "        [-1.3561e-02,  4.6366e-02,  2.2431e-02,  1.1310e-02],\n",
            "        [-1.3070e-02,  4.3770e-02,  2.3662e-02,  5.6891e-05],\n",
            "        [-4.1980e-03,  4.0573e-02,  2.4245e-02,  9.7965e-03],\n",
            "        [ 1.7747e-02,  3.3875e-02,  1.4903e-02,  1.1383e-02],\n",
            "        [-1.4055e-02,  2.5222e-02,  2.5210e-02,  3.3677e-02],\n",
            "        [-6.0918e-03,  1.0472e-02,  2.2223e-02, -1.2876e-02],\n",
            "        [ 5.5028e-03,  1.3199e-02,  1.7938e-02, -1.3331e-02],\n",
            "        [-2.2981e-02,  2.7204e-02,  4.3054e-02,  2.3317e-02],\n",
            "        [-1.3472e-02,  1.9188e-02,  4.0408e-02,  1.2106e-02],\n",
            "        [-2.5709e-02,  2.1977e-02,  2.5623e-02,  1.8411e-02],\n",
            "        [-2.9122e-02,  4.1252e-02,  1.5431e-02, -2.2621e-02],\n",
            "        [-1.6939e-02,  2.3991e-02,  1.7741e-02,  2.4585e-02],\n",
            "        [-8.0896e-03,  2.9558e-02,  3.8675e-02,  2.6921e-02],\n",
            "        [-1.3070e-02,  4.3770e-02,  2.3662e-02,  5.6891e-05],\n",
            "        [ 6.8460e-03,  1.1634e-02,  2.5399e-02,  1.5030e-02],\n",
            "        [ 1.3369e-02, -4.4687e-03,  2.1479e-02,  1.3967e-02],\n",
            "        [ 8.3722e-03,  1.0678e-02,  2.9191e-02,  1.7473e-02],\n",
            "        [-8.0293e-03,  2.5522e-02,  1.2741e-02,  2.2806e-02],\n",
            "        [-1.2017e-02,  2.9478e-02,  3.2048e-02,  1.7987e-02],\n",
            "        [ 1.3369e-02, -4.4687e-03,  2.1479e-02,  1.3967e-02],\n",
            "        [ 6.4619e-03,  4.4109e-02,  3.5133e-02,  2.6552e-02],\n",
            "        [-8.0293e-03,  2.5522e-02,  1.2741e-02,  2.2806e-02],\n",
            "        [ 1.3543e-02,  5.1860e-02,  2.7931e-02,  2.2305e-02],\n",
            "        [ 1.3369e-02, -4.4687e-03,  2.1479e-02,  1.3967e-02],\n",
            "        [-7.7638e-03,  3.9894e-02,  1.7416e-02,  1.1769e-02],\n",
            "        [ 1.7747e-02,  3.3875e-02,  1.4903e-02,  1.1383e-02],\n",
            "        [ 5.5028e-03,  1.3199e-02,  1.7938e-02, -1.3331e-02],\n",
            "        [-3.9470e-03,  5.5764e-02,  1.7683e-02,  2.9697e-02],\n",
            "        [-6.4944e-03,  2.0652e-02,  2.1175e-02,  2.4070e-02],\n",
            "        [ 9.0057e-03,  1.7602e-02,  3.9889e-02,  1.7602e-02],\n",
            "        [-1.2389e-02,  2.7740e-02,  6.9112e-02, -4.3463e-03],\n",
            "        [ 6.4543e-03,  4.9326e-02,  2.6336e-02,  3.6335e-02],\n",
            "        [-6.0918e-03,  1.0472e-02,  2.2223e-02, -1.2876e-02],\n",
            "        [-1.7061e-03,  1.0951e-02,  2.5289e-02, -5.2470e-03],\n",
            "        [-1.1578e-02,  3.9455e-02,  3.7081e-02,  1.4877e-02],\n",
            "        [-1.3070e-02,  4.3770e-02,  2.3662e-02,  5.6891e-05],\n",
            "        [-1.2329e-02,  3.0996e-02,  5.2943e-02,  2.5763e-02],\n",
            "        [ 1.7747e-02,  3.3875e-02,  1.4903e-02,  1.1383e-02],\n",
            "        [-8.0293e-03,  2.5522e-02,  1.2741e-02,  2.2806e-02],\n",
            "        [-8.4251e-04,  3.4502e-02,  7.1492e-03,  8.6389e-03],\n",
            "        [ 5.5028e-03,  1.3199e-02,  1.7938e-02, -1.3331e-02],\n",
            "        [-4.9611e-03,  4.2833e-02,  2.7288e-02,  4.6563e-03],\n",
            "        [-3.2309e-03,  2.8171e-02, -1.1027e-05, -2.8547e-02],\n",
            "        [-1.3070e-02,  4.3770e-02,  2.3662e-02,  5.6891e-05],\n",
            "        [-5.5654e-03,  4.4440e-02,  5.0957e-02,  2.9646e-02],\n",
            "        [ 1.7747e-02,  3.3875e-02,  1.4903e-02,  1.1383e-02],\n",
            "        [-8.0293e-03,  2.5522e-02,  1.2741e-02,  2.2806e-02],\n",
            "        [ 8.2404e-03,  1.3648e-02,  2.3342e-02,  1.6506e-02],\n",
            "        [-1.0231e-02,  3.9064e-02,  9.8865e-03,  1.0447e-02],\n",
            "        [-1.3070e-02,  4.3770e-02,  2.3662e-02,  5.6891e-05],\n",
            "        [-2.1481e-02,  2.1884e-02,  2.9365e-02,  1.8947e-02],\n",
            "        [-2.1481e-02,  2.1884e-02,  2.9365e-02,  1.8947e-02],\n",
            "        [-2.1481e-02,  2.1884e-02,  2.9365e-02,  1.8947e-02],\n",
            "        [ 1.7747e-02,  3.3875e-02,  1.4903e-02,  1.1383e-02],\n",
            "        [-8.0293e-03,  2.5522e-02,  1.2741e-02,  2.2806e-02],\n",
            "        [-6.1369e-03,  3.8164e-02,  1.3460e-02,  5.3762e-03],\n",
            "        [-1.2339e-02,  3.4699e-02,  4.3903e-02,  1.5933e-02],\n",
            "        [-1.3070e-02,  4.3770e-02,  2.3662e-02,  5.6891e-05],\n",
            "        [-2.1481e-02,  2.1884e-02,  2.9365e-02,  1.8947e-02],\n",
            "        [-2.1481e-02,  2.1884e-02,  2.9365e-02,  1.8947e-02],\n",
            "        [-2.1481e-02,  2.1884e-02,  2.9365e-02,  1.8947e-02],\n",
            "        [ 1.7747e-02,  3.3875e-02,  1.4903e-02,  1.1383e-02],\n",
            "        [-8.0293e-03,  2.5522e-02,  1.2741e-02,  2.2806e-02],\n",
            "        [-4.1973e-03,  1.3363e-02,  1.6396e-02,  1.4064e-02],\n",
            "        [ 1.1559e-02,  7.5241e-02,  3.2422e-02,  6.5029e-03],\n",
            "        [-2.6482e-02,  1.3126e-02,  3.9732e-02,  2.3943e-02],\n",
            "        [-5.5768e-03,  5.0983e-02,  3.1614e-02,  3.5109e-03],\n",
            "        [-2.7603e-03,  1.7351e-02,  6.4067e-03,  1.4314e-02],\n",
            "        [-2.1481e-02,  2.1884e-02,  2.9365e-02,  1.8947e-02],\n",
            "        [-4.7395e-02,  6.0867e-02,  4.0056e-02,  1.4118e-02],\n",
            "        [-7.9582e-03,  2.1732e-02,  2.7803e-02,  2.4601e-02],\n",
            "        [-8.4801e-03, -6.7201e-03,  3.1676e-02,  3.3218e-02],\n",
            "        [-1.2499e-02,  3.3633e-02,  1.9638e-02,  1.7137e-02],\n",
            "        [-3.0726e-02,  1.4618e-02,  1.7474e-02,  2.9433e-02],\n",
            "        [-8.0293e-03,  2.5522e-02,  1.2741e-02,  2.2806e-02],\n",
            "        [-3.6084e-02,  3.2136e-02,  1.9420e-02,  2.3143e-02],\n",
            "        [-3.8711e-03,  8.1790e-04,  2.6609e-02,  1.0678e-02],\n",
            "        [-1.2485e-02,  3.0821e-02,  2.5213e-02,  1.0407e-02],\n",
            "        [-5.1487e-03,  1.5675e-02,  2.5016e-02,  6.9625e-03],\n",
            "        [-5.2191e-02,  3.9795e-02,  1.6418e-02,  4.2296e-02],\n",
            "        [-5.1487e-03,  1.5675e-02,  2.5016e-02,  6.9625e-03],\n",
            "        [-7.6724e-03,  3.8938e-02,  2.3529e-02, -5.3442e-04],\n",
            "        [ 2.6062e-03,  2.6523e-02,  7.7749e-03,  2.5318e-02],\n",
            "        [-8.0293e-03,  2.5522e-02,  1.2741e-02,  2.2806e-02],\n",
            "        [-2.0851e-02,  1.9329e-02,  2.6450e-02,  2.3834e-02],\n",
            "        [-5.1487e-03,  1.5675e-02,  2.5016e-02,  6.9625e-03],\n",
            "        [-6.4538e-03,  1.3808e-02,  1.0034e-02,  1.8368e-02],\n",
            "        [-1.7638e-02,  2.0060e-02,  5.8954e-02,  1.3364e-02],\n",
            "        [-3.0278e-02,  3.9381e-02,  1.1956e-02,  1.7453e-02],\n",
            "        [-6.6296e-03,  1.4005e-03,  3.7070e-02,  1.2137e-02],\n",
            "        [ 6.6846e-03,  2.7186e-02,  2.3030e-02, -3.7744e-03],\n",
            "        [ 5.6329e-03,  3.0593e-02,  4.6673e-02,  1.2472e-02],\n",
            "        [-8.8383e-03,  1.1902e-03,  3.6662e-02,  3.4989e-02],\n",
            "        [-3.8711e-03,  8.1790e-04,  2.6609e-02,  1.0678e-02],\n",
            "        [-1.4443e-02,  2.8543e-02,  2.0528e-02,  9.2820e-04],\n",
            "        [ 1.3369e-02, -4.4687e-03,  2.1479e-02,  1.3967e-02],\n",
            "        [ 1.7747e-02,  3.3875e-02,  1.4903e-02,  1.1383e-02],\n",
            "        [ 1.7832e-02,  1.6636e-02,  1.0154e-03,  1.6393e-02],\n",
            "        [ 1.9992e-03,  3.2892e-02,  4.1409e-02,  4.8678e-03],\n",
            "        [-3.7402e-04,  2.2599e-02, -3.7093e-03,  8.9260e-03],\n",
            "        [ 1.9591e-03,  4.4733e-02,  3.6028e-02,  1.6953e-02],\n",
            "        [ 6.4419e-03,  2.3905e-02,  1.2639e-03,  3.1862e-02],\n",
            "        [ 6.1105e-03,  3.5904e-02,  2.8909e-02,  6.6716e-04],\n",
            "        [-1.1120e-02,  3.4757e-02,  1.1138e-02,  3.0338e-02],\n",
            "        [-2.1532e-02,  3.9945e-03,  3.9168e-02,  7.3722e-03],\n",
            "        [-2.1532e-02,  3.9945e-03,  3.9168e-02,  7.3722e-03],\n",
            "        [-2.1532e-02,  3.9945e-03,  3.9168e-02,  7.3722e-03],\n",
            "        [-2.1532e-02,  3.9945e-03,  3.9168e-02,  7.3722e-03],\n",
            "        [-2.1532e-02,  3.9945e-03,  3.9168e-02,  7.3722e-03],\n",
            "        [ 1.9591e-03,  4.4733e-02,  3.6028e-02,  1.6953e-02],\n",
            "        [ 6.4419e-03,  2.3905e-02,  1.2639e-03,  3.1862e-02],\n",
            "        [ 6.1105e-03,  3.5904e-02,  2.8909e-02,  6.6716e-04],\n",
            "        [ 8.4474e-03,  4.4992e-02,  3.3376e-02,  2.9313e-02],\n",
            "        [-2.1532e-02,  3.9945e-03,  3.9168e-02,  7.3722e-03],\n",
            "        [-2.1532e-02,  3.9945e-03,  3.9168e-02,  7.3722e-03],\n",
            "        [-2.1532e-02,  3.9945e-03,  3.9168e-02,  7.3722e-03],\n",
            "        [-2.1532e-02,  3.9945e-03,  3.9168e-02,  7.3722e-03],\n",
            "        [-2.1532e-02,  3.9945e-03,  3.9168e-02,  7.3722e-03],\n",
            "        [-7.7186e-03,  3.5809e-02,  1.0677e-02,  2.1045e-02],\n",
            "        [ 3.1221e-03,  1.2763e-02,  2.7101e-02,  1.3331e-02],\n",
            "        [ 6.5018e-03,  4.4071e-02,  2.8229e-02,  7.2724e-03],\n",
            "        [-3.3169e-03,  1.1959e-02,  9.9649e-03,  2.3252e-02],\n",
            "        [-1.2027e-02,  2.6251e-02,  4.0447e-02,  1.9807e-02],\n",
            "        [-6.7311e-04,  2.6577e-02,  4.3751e-02,  1.6277e-02],\n",
            "        [-2.1532e-02,  3.9945e-03,  3.9168e-02,  7.3722e-03],\n",
            "        [-2.1532e-02,  3.9945e-03,  3.9168e-02,  7.3722e-03],\n",
            "        [-2.1532e-02,  3.9945e-03,  3.9168e-02,  7.3722e-03],\n",
            "        [-2.1532e-02,  3.9945e-03,  3.9168e-02,  7.3722e-03],\n",
            "        [ 3.4252e-03,  1.9013e-02,  2.5837e-02,  3.6204e-03],\n",
            "        [-1.4608e-02,  1.9801e-02,  4.5212e-03,  1.9475e-02],\n",
            "        [ 4.9449e-03,  8.8694e-04,  2.7693e-02,  1.7244e-02],\n",
            "        [ 6.1455e-03,  2.0642e-02,  2.6537e-02,  1.8550e-02],\n",
            "        [-1.7418e-02,  2.7272e-02,  1.8222e-02,  3.1295e-02],\n",
            "        [-8.0190e-03,  1.3462e-02,  4.5868e-02, -4.2276e-03],\n",
            "        [-2.0117e-03,  1.9871e-02,  6.5494e-02, -2.2122e-03],\n",
            "        [-5.8299e-03,  1.7169e-02,  3.4445e-02,  2.8240e-02],\n",
            "        [-3.8711e-03,  8.1790e-04,  2.6609e-02,  1.0678e-02],\n",
            "        [-4.3528e-02,  3.5452e-02,  2.1505e-02,  1.2019e-02],\n",
            "        [ 1.7832e-02,  1.6636e-02,  1.0154e-03,  1.6393e-02],\n",
            "        [ 1.9992e-03,  3.2892e-02,  4.1409e-02,  4.8678e-03],\n",
            "        [-3.7402e-04,  2.2599e-02, -3.7093e-03,  8.9260e-03],\n",
            "        [-8.0293e-03,  2.5522e-02,  1.2741e-02,  2.2806e-02],\n",
            "        [-3.2481e-02,  4.0181e-02,  3.3984e-02,  1.4606e-02]],\n",
            "       grad_fn=<SqueezeBackward1>)\n",
            "ipdb> target\n",
            "tensor([[0., 1., 0., 0.]])\n"
          ]
        },
        {
          "output_type": "stream",
          "name": "stderr",
          "text": [
            "\n",
            "PYDEV DEBUGGER WARNING:\n",
            "sys.settrace() should not be used when the debugger is being used.\n",
            "This may cause the debugger to stop working correctly.\n",
            "If this is needed, please check: \n",
            "http://pydev.blogspot.com/2007/06/why-cant-pydev-debugger-work-with.html\n",
            "to see how to restore the debug tracing back correctly.\n",
            "Call Location:\n",
            "  File \"/usr/lib/python3.10/bdb.py\", line 361, in set_quit\n",
            "    sys.settrace(None)\n",
            "\n",
            "\n",
            "PYDEV DEBUGGER WARNING:\n",
            "sys.settrace() should not be used when the debugger is being used.\n",
            "This may cause the debugger to stop working correctly.\n",
            "If this is needed, please check: \n",
            "http://pydev.blogspot.com/2007/06/why-cant-pydev-debugger-work-with.html\n",
            "to see how to restore the debug tracing back correctly.\n",
            "Call Location:\n",
            "  File \"/usr/local/lib/python3.10/dist-packages/IPython/core/debugger.py\", line 1075, in cmdloop\n",
            "    sys.settrace(None)\n",
            "\n"
          ]
        },
        {
          "output_type": "stream",
          "name": "stdout",
          "text": [
            "--KeyboardInterrupt--\n",
            "\n",
            "KeyboardInterrupt: Interrupted by user\n"
          ]
        },
        {
          "output_type": "stream",
          "name": "stderr",
          "text": [
            "<ipython-input-51-0930d2f18734>:9: UserWarning: To copy construct from a tensor, it is recommended to use sourceTensor.clone().detach() or sourceTensor.clone().detach().requires_grad_(True), rather than torch.tensor(sourceTensor).\n",
            "  loss = criterion(output.unsqueeze(0), torch.tensor(target))\n"
          ]
        },
        {
          "output_type": "error",
          "ename": "RuntimeError",
          "evalue": "expected scalar type Long but found Float",
          "traceback": [
            "\u001b[0;31m---------------------------------------------------------------------------\u001b[0m",
            "\u001b[0;31mRuntimeError\u001b[0m                              Traceback (most recent call last)",
            "\u001b[0;32m<ipython-input-51-0930d2f18734>\u001b[0m in \u001b[0;36m<cell line: 1>\u001b[0;34m()\u001b[0m\n\u001b[1;32m      7\u001b[0m       \u001b[0;32mfrom\u001b[0m \u001b[0mpdb\u001b[0m \u001b[0;32mimport\u001b[0m \u001b[0mset_trace\u001b[0m\u001b[0;34m\u001b[0m\u001b[0;34m\u001b[0m\u001b[0m\n\u001b[1;32m      8\u001b[0m       \u001b[0mset_trace\u001b[0m\u001b[0;34m(\u001b[0m\u001b[0;34m)\u001b[0m\u001b[0;34m\u001b[0m\u001b[0;34m\u001b[0m\u001b[0m\n\u001b[0;32m----> 9\u001b[0;31m       \u001b[0mloss\u001b[0m \u001b[0;34m=\u001b[0m \u001b[0mcriterion\u001b[0m\u001b[0;34m(\u001b[0m\u001b[0moutput\u001b[0m\u001b[0;34m.\u001b[0m\u001b[0munsqueeze\u001b[0m\u001b[0;34m(\u001b[0m\u001b[0;36m0\u001b[0m\u001b[0;34m)\u001b[0m\u001b[0;34m,\u001b[0m \u001b[0mtorch\u001b[0m\u001b[0;34m.\u001b[0m\u001b[0mtensor\u001b[0m\u001b[0;34m(\u001b[0m\u001b[0mtarget\u001b[0m\u001b[0;34m)\u001b[0m\u001b[0;34m)\u001b[0m\u001b[0;34m\u001b[0m\u001b[0;34m\u001b[0m\u001b[0m\n\u001b[0m\u001b[1;32m     10\u001b[0m       \u001b[0moptimizer\u001b[0m\u001b[0;34m.\u001b[0m\u001b[0mzero_grad\u001b[0m\u001b[0;34m(\u001b[0m\u001b[0;34m)\u001b[0m  \u001b[0;31m# Clear previous gradients\u001b[0m\u001b[0;34m\u001b[0m\u001b[0;34m\u001b[0m\u001b[0m\n\u001b[1;32m     11\u001b[0m       \u001b[0mloss\u001b[0m\u001b[0;34m.\u001b[0m\u001b[0mbackward\u001b[0m\u001b[0;34m(\u001b[0m\u001b[0;34m)\u001b[0m\u001b[0;34m\u001b[0m\u001b[0;34m\u001b[0m\u001b[0m\n",
            "\u001b[0;32m/usr/local/lib/python3.10/dist-packages/torch/nn/modules/module.py\u001b[0m in \u001b[0;36m_wrapped_call_impl\u001b[0;34m(self, *args, **kwargs)\u001b[0m\n\u001b[1;32m   1509\u001b[0m             \u001b[0;32mreturn\u001b[0m \u001b[0mself\u001b[0m\u001b[0;34m.\u001b[0m\u001b[0m_compiled_call_impl\u001b[0m\u001b[0;34m(\u001b[0m\u001b[0;34m*\u001b[0m\u001b[0margs\u001b[0m\u001b[0;34m,\u001b[0m \u001b[0;34m**\u001b[0m\u001b[0mkwargs\u001b[0m\u001b[0;34m)\u001b[0m  \u001b[0;31m# type: ignore[misc]\u001b[0m\u001b[0;34m\u001b[0m\u001b[0;34m\u001b[0m\u001b[0m\n\u001b[1;32m   1510\u001b[0m         \u001b[0;32melse\u001b[0m\u001b[0;34m:\u001b[0m\u001b[0;34m\u001b[0m\u001b[0;34m\u001b[0m\u001b[0m\n\u001b[0;32m-> 1511\u001b[0;31m             \u001b[0;32mreturn\u001b[0m \u001b[0mself\u001b[0m\u001b[0;34m.\u001b[0m\u001b[0m_call_impl\u001b[0m\u001b[0;34m(\u001b[0m\u001b[0;34m*\u001b[0m\u001b[0margs\u001b[0m\u001b[0;34m,\u001b[0m \u001b[0;34m**\u001b[0m\u001b[0mkwargs\u001b[0m\u001b[0;34m)\u001b[0m\u001b[0;34m\u001b[0m\u001b[0;34m\u001b[0m\u001b[0m\n\u001b[0m\u001b[1;32m   1512\u001b[0m \u001b[0;34m\u001b[0m\u001b[0m\n\u001b[1;32m   1513\u001b[0m     \u001b[0;32mdef\u001b[0m \u001b[0m_call_impl\u001b[0m\u001b[0;34m(\u001b[0m\u001b[0mself\u001b[0m\u001b[0;34m,\u001b[0m \u001b[0;34m*\u001b[0m\u001b[0margs\u001b[0m\u001b[0;34m,\u001b[0m \u001b[0;34m**\u001b[0m\u001b[0mkwargs\u001b[0m\u001b[0;34m)\u001b[0m\u001b[0;34m:\u001b[0m\u001b[0;34m\u001b[0m\u001b[0;34m\u001b[0m\u001b[0m\n",
            "\u001b[0;32m/usr/local/lib/python3.10/dist-packages/torch/nn/modules/module.py\u001b[0m in \u001b[0;36m_call_impl\u001b[0;34m(self, *args, **kwargs)\u001b[0m\n\u001b[1;32m   1518\u001b[0m                 \u001b[0;32mor\u001b[0m \u001b[0m_global_backward_pre_hooks\u001b[0m \u001b[0;32mor\u001b[0m \u001b[0m_global_backward_hooks\u001b[0m\u001b[0;34m\u001b[0m\u001b[0;34m\u001b[0m\u001b[0m\n\u001b[1;32m   1519\u001b[0m                 or _global_forward_hooks or _global_forward_pre_hooks):\n\u001b[0;32m-> 1520\u001b[0;31m             \u001b[0;32mreturn\u001b[0m \u001b[0mforward_call\u001b[0m\u001b[0;34m(\u001b[0m\u001b[0;34m*\u001b[0m\u001b[0margs\u001b[0m\u001b[0;34m,\u001b[0m \u001b[0;34m**\u001b[0m\u001b[0mkwargs\u001b[0m\u001b[0;34m)\u001b[0m\u001b[0;34m\u001b[0m\u001b[0;34m\u001b[0m\u001b[0m\n\u001b[0m\u001b[1;32m   1521\u001b[0m \u001b[0;34m\u001b[0m\u001b[0m\n\u001b[1;32m   1522\u001b[0m         \u001b[0;32mtry\u001b[0m\u001b[0;34m:\u001b[0m\u001b[0;34m\u001b[0m\u001b[0;34m\u001b[0m\u001b[0m\n",
            "\u001b[0;32m/usr/local/lib/python3.10/dist-packages/torch/nn/modules/loss.py\u001b[0m in \u001b[0;36mforward\u001b[0;34m(self, input, target)\u001b[0m\n\u001b[1;32m   1177\u001b[0m \u001b[0;34m\u001b[0m\u001b[0m\n\u001b[1;32m   1178\u001b[0m     \u001b[0;32mdef\u001b[0m \u001b[0mforward\u001b[0m\u001b[0;34m(\u001b[0m\u001b[0mself\u001b[0m\u001b[0;34m,\u001b[0m \u001b[0minput\u001b[0m\u001b[0;34m:\u001b[0m \u001b[0mTensor\u001b[0m\u001b[0;34m,\u001b[0m \u001b[0mtarget\u001b[0m\u001b[0;34m:\u001b[0m \u001b[0mTensor\u001b[0m\u001b[0;34m)\u001b[0m \u001b[0;34m->\u001b[0m \u001b[0mTensor\u001b[0m\u001b[0;34m:\u001b[0m\u001b[0;34m\u001b[0m\u001b[0;34m\u001b[0m\u001b[0m\n\u001b[0;32m-> 1179\u001b[0;31m         return F.cross_entropy(input, target, weight=self.weight,\n\u001b[0m\u001b[1;32m   1180\u001b[0m                                \u001b[0mignore_index\u001b[0m\u001b[0;34m=\u001b[0m\u001b[0mself\u001b[0m\u001b[0;34m.\u001b[0m\u001b[0mignore_index\u001b[0m\u001b[0;34m,\u001b[0m \u001b[0mreduction\u001b[0m\u001b[0;34m=\u001b[0m\u001b[0mself\u001b[0m\u001b[0;34m.\u001b[0m\u001b[0mreduction\u001b[0m\u001b[0;34m,\u001b[0m\u001b[0;34m\u001b[0m\u001b[0;34m\u001b[0m\u001b[0m\n\u001b[1;32m   1181\u001b[0m                                label_smoothing=self.label_smoothing)\n",
            "\u001b[0;32m/usr/local/lib/python3.10/dist-packages/torch/nn/functional.py\u001b[0m in \u001b[0;36mcross_entropy\u001b[0;34m(input, target, weight, size_average, ignore_index, reduce, reduction, label_smoothing)\u001b[0m\n\u001b[1;32m   3057\u001b[0m     \u001b[0;32mif\u001b[0m \u001b[0msize_average\u001b[0m \u001b[0;32mis\u001b[0m \u001b[0;32mnot\u001b[0m \u001b[0;32mNone\u001b[0m \u001b[0;32mor\u001b[0m \u001b[0mreduce\u001b[0m \u001b[0;32mis\u001b[0m \u001b[0;32mnot\u001b[0m \u001b[0;32mNone\u001b[0m\u001b[0;34m:\u001b[0m\u001b[0;34m\u001b[0m\u001b[0;34m\u001b[0m\u001b[0m\n\u001b[1;32m   3058\u001b[0m         \u001b[0mreduction\u001b[0m \u001b[0;34m=\u001b[0m \u001b[0m_Reduction\u001b[0m\u001b[0;34m.\u001b[0m\u001b[0mlegacy_get_string\u001b[0m\u001b[0;34m(\u001b[0m\u001b[0msize_average\u001b[0m\u001b[0;34m,\u001b[0m \u001b[0mreduce\u001b[0m\u001b[0;34m)\u001b[0m\u001b[0;34m\u001b[0m\u001b[0;34m\u001b[0m\u001b[0m\n\u001b[0;32m-> 3059\u001b[0;31m     \u001b[0;32mreturn\u001b[0m \u001b[0mtorch\u001b[0m\u001b[0;34m.\u001b[0m\u001b[0m_C\u001b[0m\u001b[0;34m.\u001b[0m\u001b[0m_nn\u001b[0m\u001b[0;34m.\u001b[0m\u001b[0mcross_entropy_loss\u001b[0m\u001b[0;34m(\u001b[0m\u001b[0minput\u001b[0m\u001b[0;34m,\u001b[0m \u001b[0mtarget\u001b[0m\u001b[0;34m,\u001b[0m \u001b[0mweight\u001b[0m\u001b[0;34m,\u001b[0m \u001b[0m_Reduction\u001b[0m\u001b[0;34m.\u001b[0m\u001b[0mget_enum\u001b[0m\u001b[0;34m(\u001b[0m\u001b[0mreduction\u001b[0m\u001b[0;34m)\u001b[0m\u001b[0;34m,\u001b[0m \u001b[0mignore_index\u001b[0m\u001b[0;34m,\u001b[0m \u001b[0mlabel_smoothing\u001b[0m\u001b[0;34m)\u001b[0m\u001b[0;34m\u001b[0m\u001b[0;34m\u001b[0m\u001b[0m\n\u001b[0m\u001b[1;32m   3060\u001b[0m \u001b[0;34m\u001b[0m\u001b[0m\n\u001b[1;32m   3061\u001b[0m \u001b[0;34m\u001b[0m\u001b[0m\n",
            "\u001b[0;31mRuntimeError\u001b[0m: expected scalar type Long but found Float"
          ]
        }
      ]
    }
  ],
  "metadata": {
    "kernelspec": {
      "display_name": "Python 3",
      "name": "python3"
    },
    "language_info": {
      "codemirror_mode": {
        "name": "ipython",
        "version": 3
      },
      "file_extension": ".py",
      "mimetype": "text/x-python",
      "name": "python",
      "nbconvert_exporter": "python",
      "pygments_lexer": "ipython3",
      "version": "3.7.4"
    },
    "colab": {
      "provenance": [],
      "gpuType": "V100",
      "machine_shape": "hm"
    },
    "accelerator": "GPU"
  },
  "nbformat": 4,
  "nbformat_minor": 0
}