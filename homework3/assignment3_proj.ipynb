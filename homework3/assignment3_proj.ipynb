{
  "cells": [
    {
      "cell_type": "markdown",
      "metadata": {
        "id": "t0PM_3LN9Rw6"
      },
      "source": [
        "# CMPT 728/420 Deep Learning\n",
        "\n",
        "## Assignment 3\n",
        "\n",
        "### Assignment Goals:\n",
        "\n",
        "* Implementing and improving RNN based language models.\n",
        "* Implementing and applying a Recurrent Neural Network on text classification problem.\n",
        "\n",
        "\n",
        "In this assignment, you will implement RNN-based language models and compare extracted word representation from different models. You will also compare two different training methods for sequential data: Truncated Backpropagation Through Time __(TBTT)__ and Backpropagation Through Time __(BTT)__.\n",
        "Also, you will be asked to apply Vanilla RNN to capture word representations and solve a text classification problem.\n"
      ]
    },
    {
      "cell_type": "markdown",
      "metadata": {
        "id": "u0mp8eB29Rw7"
      },
      "source": [
        "### DataSets\n",
        "\n",
        "You will use two datasets, an English Literature dataset for language model task (part 1 to 4) and the 20Newsgroups dataset for text classification (part 5)."
      ]
    },
    {
      "cell_type": "markdown",
      "metadata": {
        "id": "mTArlPot9Rw7"
      },
      "source": [
        "### Requirements\n",
        "\n",
        "1. **(30 points) Implement a RNN based language model.**\n",
        "\n",
        "    Implement the RNN based language model described by [Mikolov et al.](https://www.fit.vutbr.cz/research/groups/speech/publi/2010/mikolov_interspeech2010_IS100722.pdf), also called **Elman network**. The Elman network contains input, hidden and output layer and is trained by standard backpropagation (TBTT with $τ = 1$) using the cross-entropy loss.\n",
        "\n",
        "      * The input vector $x(t)$ at time $t$ consists of the current word while using 1-of-N coding (thus its size is equal to the size of the vocabulary) $w(t)$ and a vector $s(t − 1)$ which represents output values in the hidden layer from the previous time step $t-1$.\n",
        "      $$x(t) = w(t) + s(t-1)$$\n",
        "      \n",
        "      * The hidden layer is a fully connected tanh layer with size 500.\n",
        "      $$s_j(t) = f(\\sum_i x_i(t)u_{ji} )$$\n",
        "      Here $u$ is the parameter matrix of hidden layer, $f$ is the tanh activation function.\n",
        "      \n",
        "      * The softmax output layer captures a valid probability distribution.\n",
        "      $$y_k(t) = g(\\sum_j s_j(t)v_{kj})$$\n",
        "      Here $v$ is the parameter matrix of output layer, $g$ is the softmax function.\n",
        "      \n",
        "      * The model is trained with truncated backpropagation through time (TBTT) with $τ = 1$: the weights of the network are updated based on the error vector computed only for the current time step.\n",
        "      \n",
        "   Train the language model on the given English Literature dataset, report the model cross-entropy loss on the train set. Visualize the cross-entropy loss during training using a curve line. Your curve line should demonstrate that the loss value converges.\n",
        "   \n",
        "   Use nltk.word_tokenize to tokenize the documents. For initialization, $s(0)$ can be set to a vector of small values. Note that we are not interested in the *dynamic model* mentioned in the original paper.\n"
      ]
    },
    {
      "cell_type": "markdown",
      "metadata": {
        "id": "-d2zerOU9Rw8"
      },
      "source": [
        "2. **(20 points) Train the Elman network with BTT.**\n",
        "\n",
        "    TBTT has less computational cost and memory needs in comparison with **backpropagation through time algorithm (BTT)**. These benefits come at the cost of losing long term dependencies ([reference](https://arxiv.org/abs/1705.08209)). TBTT is rarely used until now, we use BTT instead.\n",
        "\n",
        "    Train your implemented Elman network with BTT, then compare the computational costs and performance of BTT and TBTT training.  For training the Elman-type RNN with BTT, one option is to perform mini-batch gradient descent with exactly one sentence per mini-batch. (Hints: The input  size will be (1, Sentence Length) ).\n",
        "\n",
        "   * Split the document into sentences (you can use nltk.tokenize.sent_tokenize. The natural language toolkit (nltk) can be installed using the command 'pip install nltk').\n",
        "   * For each sentence, perform one pass that computes the mean/sum loss for this sentence; then perform a gradient update for the whole sentence. (So the mini-batch size varies for the sentences with different lengths). You can truncate long sentences to fit the data in memory.\n",
        "   * Report the model cross-entropy loss.Visualize the cross-entropy loss during training using a curve line. Your curve line should demonstrate that the loss value converges."
      ]
    },
    {
      "cell_type": "markdown",
      "metadata": {
        "id": "ndwfWUnr9Rw8"
      },
      "source": [
        "3. **(30 points) Improve your Elman network with GRU.**\n",
        "\n",
        "    (a) Gated Recurrent Unit: It does not seem that simple recurrent neural networks can capture truly exploit context information with long dependencies, because of the problem of gradient vanishing and exploding. To solve this problem, gating mechanisms for recurrent neural networks were introduced. (15 points)\n",
        "\n",
        "    Try to learn your last model (Elman + BTT) with the SimpleRnn unit replaced with a **Gated Recurrent Unit (GRU)**. Report the model cross-entropy loss.  Visualize the cross-entropy loss during training using a curve line. Your curve line should demonstrate that the loss value converges. Compare your results in terms of cross-entropy loss with two other approaches (part 1 and 2).\n",
        "\n",
        "    (b) Text generation: Use each model to generate 10 synthetic sentences of 15 words each. Discuss the quality of the sentences generated - do they look like proper English? Do they match the training set? (15 points)\n",
        "    \n",
        "    Text generation from a given language model can be done using the following iterative process:\n",
        "   - Set sequence = \\[first_word\\], chosen randomly.\n",
        "   - Select a new word based on the sequence so far, add this word to the sequence, and repeat. At each iteration, select the word with maximum probability given the sequence so far. The trained language model outputs this probability."
      ]
    },
    {
      "cell_type": "markdown",
      "metadata": {
        "id": "uAJqmQeI9Rw8"
      },
      "source": [
        "4. **(20 points) Implement a text classification model.**\n",
        "\n",
        "    We are aiming to learn an RNN model that predicts document categories given its content (text classification). For this task, we will use the 20Newsgroups dataset. The 20Newsgroupst contains messages from twenty newsgroups.  We selected four major categories (comp, politics, rec, and religion) comprising around 13k documents altogether. Your model should learn word representations to support the classification task. For solving this problem modify the **Elman network** architecture and simple RNN such that the last layer is a softmax layer with just 4 output neurons (one for each category).\n",
        "\n",
        "    * Download the 20Newsgroups dataset, and use the below helper function data_loader() to read in the dataset.\n",
        "    * Split the data into a training set (90%) and validation set (10%).\n",
        "    * Implement your text classification model, and train the model on 20Newsgroups training set.\n",
        "    * Report your accuracy results on the validation set. Try to achieve $\\geq 80\\%$ validation accuracy. (5 points)"
      ]
    },
    {
      "cell_type": "markdown",
      "metadata": {
        "id": "rAQS8UmJ9Rw8"
      },
      "source": [
        "### Submission Notes\n",
        "\n",
        "Please use Jupyter Notebook. The notebook should include the final code, results and your answers. You should submit your Notebook in (.pdf or .html) and .ipynb format. (penalty 10 points)\n",
        "\n",
        "To reduce the parameters, you can merge all words that occur less often than a threshold into a special rare token (\\__unk__).\n",
        "\n",
        "All the data directories in the code must be relative.\n",
        "\n",
        "**Instructions：**\n",
        "\n",
        "The university policy on academic dishonesty and plagiarism (cheating) will be taken very seriously in this course. Everything submitted should be your own writing or coding. You must not let other students copy your work. Spelling and grammar count.\n",
        "\n",
        "Your assignments will be marked based on correctness, originality (the implementations and ideas are from yourself), and test performance.\n",
        "\n"
      ]
    },
    {
      "cell_type": "markdown",
      "metadata": {
        "id": "FOI_Oh-u9Rw8"
      },
      "source": [
        "## Your Implementation"
      ]
    },
    {
      "cell_type": "code",
      "execution_count": 1,
      "metadata": {
        "colab": {
          "base_uri": "https://localhost:8080/"
        },
        "id": "jzuzAEju9Uh0",
        "outputId": "2f99528e-c1b2-43e7-dc75-4d22b548b5ad"
      },
      "outputs": [
        {
          "name": "stdout",
          "output_type": "stream",
          "text": [
            "Mounted at /content/drive\n",
            "/content/drive/MyDrive/CMPT420_HW3\n"
          ]
        }
      ],
      "source": [
        "# from google.colab import drive\n",
        "# import os\n",
        "# drive.mount('/content/drive')\n",
        "# os.chdir(\"/content/drive/MyDrive/CMPT420_HW3\")\n",
        "# !pwd"
      ]
    },
    {
      "cell_type": "code",
      "execution_count": 1,
      "metadata": {
        "id": "gIma9IS29Rw8"
      },
      "outputs": [],
      "source": [
        "\n",
        "import torch\n",
        "import torch.nn as nn\n",
        "import torch.optim as optim\n",
        "import numpy as np\n",
        "import matplotlib.pyplot as plt\n",
        "import nltk\n",
        "import random\n",
        "from tqdm import tqdm\n",
        "import torch.optim as optim\n",
        "from torch.utils.data import Dataset\n",
        "from torch.utils.data import DataLoader\n",
        "import torch.nn.functional as F\n",
        "from torch.utils.data import random_split"
      ]
    },
    {
      "cell_type": "code",
      "execution_count": 2,
      "metadata": {
        "colab": {
          "base_uri": "https://localhost:8080/"
        },
        "id": "bgNfXUMwCIX6",
        "outputId": "1538ef82-4ec3-416b-9777-4a47822f355c"
      },
      "outputs": [
        {
          "name": "stderr",
          "output_type": "stream",
          "text": [
            "[nltk_data] Downloading package punkt to\n",
            "[nltk_data]     C:\\Users\\mikew\\AppData\\Roaming\\nltk_data...\n",
            "[nltk_data]   Package punkt is already up-to-date!\n"
          ]
        },
        {
          "data": {
            "text/plain": [
              "True"
            ]
          },
          "execution_count": 2,
          "metadata": {},
          "output_type": "execute_result"
        }
      ],
      "source": [
        "nltk.download('punkt')"
      ]
    },
    {
      "cell_type": "code",
      "execution_count": 2,
      "metadata": {
        "colab": {
          "base_uri": "https://localhost:8080/"
        },
        "id": "qULIPCIy9Rw9",
        "outputId": "ead06838-d148-48da-f045-cd27084e4db7"
      },
      "outputs": [
        {
          "name": "stdout",
          "output_type": "stream",
          "text": [
            "cuda\n"
          ]
        }
      ],
      "source": [
        "part1_batch_size = 32\n",
        "part2_batch_size = 1\n",
        "part4_batch = 1\n",
        "max_sent_len = 64\n",
        "part1_epoch = 20\n",
        "part2_epoch = 5\n",
        "part3_epoch = 5\n",
        "part4_epoch = 10\n",
        "lr = 1e-4\n",
        "hidden_size = 500\n",
        "embedding_size = 500\n",
        "device = torch.device(\"cuda\" if torch.cuda.is_available() else \"cpu\")\n",
        "data_path = './data/English Literature.txt'\n",
        "print(device)"
      ]
    },
    {
      "cell_type": "markdown",
      "metadata": {
        "id": "Zl2P2vYM_MGx"
      },
      "source": [
        "### Helper function"
      ]
    },
    {
      "cell_type": "code",
      "execution_count": 3,
      "metadata": {
        "id": "CtCS_aJOtte8"
      },
      "outputs": [],
      "source": [
        "# construct vocabulary\n",
        "with open(data_path, 'r') as file:\n",
        "    englishData = file.read()\n",
        "tokenized_data = nltk.word_tokenize(englishData.lower())\n",
        "vocabulary = set(tokenized_data)\n",
        "word_to_idx = {word:i for i, word in enumerate(vocabulary)}\n",
        "vocab_size = len(vocabulary)\n",
        "tokenized_sentences = nltk.sent_tokenize(englishData.lower())\n",
        "# print(vocab_size)\n",
        "# print(len(tokenized_data))\n"
      ]
    },
    {
      "cell_type": "code",
      "execution_count": 4,
      "metadata": {
        "id": "xg9lVj_Y9Rw-"
      },
      "outputs": [],
      "source": [
        "def plot_losses(losses):\n",
        "    plt.plot(losses)\n",
        "    plt.xlabel('Epoch')\n",
        "    plt.ylabel('Cross-Entropy Loss')\n",
        "    plt.title('Training Loss Curve')\n",
        "    plt.show()\n"
      ]
    },
    {
      "cell_type": "code",
      "execution_count": 5,
      "metadata": {
        "id": "S5WiPB3pUUAH"
      },
      "outputs": [],
      "source": [
        "def initialize_parameters(model):\n",
        "    for param in model.parameters():\n",
        "        if param.requires_grad:\n",
        "            nn.init.normal_(param, mean=0, std=0.1)"
      ]
    },
    {
      "cell_type": "markdown",
      "metadata": {
        "id": "_WDRpb0j9Rw8"
      },
      "source": [
        "### 1. Implement a RNN based language model"
      ]
    },
    {
      "cell_type": "code",
      "execution_count": 8,
      "metadata": {
        "id": "kVYIl-Kz9Rw9"
      },
      "outputs": [],
      "source": [
        "class EnglishData(Dataset):\n",
        "    def __init__(self, data, vocabulary):\n",
        "        self.vocabulary = vocabulary\n",
        "        self.data = data\n",
        "        self.word_to_idx = {word:i for i, word in enumerate(self.vocabulary)}\n",
        "        self.vocab_size = len(self.vocabulary)\n",
        "    def __len__(self):\n",
        "        return len(self.data)\n",
        "\n",
        "    def one_hot_encoding(self, data_index):\n",
        "        one_hot = torch.zeros(self.vocab_size)\n",
        "        one_hot[data_index] = 1\n",
        "        return one_hot\n",
        "    def __getitem__(self, index):\n",
        "        current_word = self.one_hot_encoding(self.word_to_idx[self.data[index]])\n",
        "        if(index+1 >= len(self.data)):\n",
        "            next_word = current_word\n",
        "        else:\n",
        "            next_word = self.one_hot_encoding(self.word_to_idx[self.data[index+1]])\n",
        "        return current_word,next_word\n",
        "\n",
        "\n",
        "# return one_hot encoding of currentword and nextword\n",
        "part1_dataset = EnglishData(tokenized_data, vocabulary)\n",
        "part1_dataloader = DataLoader(part1_dataset, batch_size = part1_batch_size, shuffle=True)\n",
        "\n",
        "\n"
      ]
    },
    {
      "cell_type": "code",
      "execution_count": 9,
      "metadata": {
        "id": "Vx3a_DqE9Rw9"
      },
      "outputs": [],
      "source": [
        "\n",
        "class ElmanRNN(nn.Module):\n",
        "    def __init__(self, input_size, hidden_size, output_size):\n",
        "        super(ElmanRNN, self).__init__()\n",
        "        self.rnn = nn.RNN(input_size, hidden_size=hidden_size, batch_first=True)\n",
        "        self.fc = nn.Linear(hidden_size, output_size)\n",
        "\n",
        "    def forward(self, x, s_prev):\n",
        "        output, s = self.rnn(x,s_prev)\n",
        "        output = self.fc(output)\n",
        "        return output, s\n"
      ]
    },
    {
      "cell_type": "code",
      "execution_count": 10,
      "metadata": {
        "id": "XqbHPTeT9Rw-"
      },
      "outputs": [],
      "source": [
        "def train(model, dataloader, optimizer, criterion, epochs, hidden_size):\n",
        "    losses = []\n",
        "    for epoch in range(epochs):\n",
        "        total_loss = 0\n",
        "        s_prev = torch.zeros(1,hidden_size).to(device)\n",
        "        for (current,next) in tqdm(dataloader):\n",
        "            current = current.to(device)\n",
        "            next = next.to(device)\n",
        "            output, s_prev = model(current, s_prev.detach())\n",
        "            s_prev = s_prev.to(device)\n",
        "            loss = criterion(output, next)\n",
        "            total_loss += loss.item()\n",
        "            optimizer.zero_grad()  # Reset gradients\n",
        "            loss.backward(retain_graph=True)\n",
        "            optimizer.step()\n",
        "        avg_loss = total_loss/len(dataloader)\n",
        "        losses.append(avg_loss)\n",
        "        print(f\"Epoch {epoch + 1}/{epochs}, Loss: {avg_loss:.4f}\")\n",
        "    return losses, model"
      ]
    },
    {
      "cell_type": "code",
      "execution_count": 11,
      "metadata": {
        "id": "jtOFAwy19Rw-"
      },
      "outputs": [],
      "source": [
        "# define model\n",
        "BaseModel = ElmanRNN(vocab_size,hidden_size,vocab_size).to(device)\n",
        "initialize_parameters(BaseModel)\n",
        "criterion = nn.CrossEntropyLoss()\n",
        "optimizer = optim.Adam(BaseModel.parameters(), lr=lr)"
      ]
    },
    {
      "cell_type": "code",
      "execution_count": 12,
      "metadata": {
        "colab": {
          "base_uri": "https://localhost:8080/"
        },
        "id": "ONWXg44u9Rw-",
        "outputId": "8bd84f09-aca0-4462-a912-9c8c5906fa19"
      },
      "outputs": [
        {
          "name": "stderr",
          "output_type": "stream",
          "text": [
            "100%|██████████| 7954/7954 [00:42<00:00, 188.03it/s]\n"
          ]
        },
        {
          "name": "stdout",
          "output_type": "stream",
          "text": [
            "Epoch 1/20, Loss: 6.5973\n"
          ]
        },
        {
          "name": "stderr",
          "output_type": "stream",
          "text": [
            "100%|██████████| 7954/7954 [00:40<00:00, 196.30it/s]\n"
          ]
        },
        {
          "name": "stdout",
          "output_type": "stream",
          "text": [
            "Epoch 2/20, Loss: 6.3104\n"
          ]
        },
        {
          "name": "stderr",
          "output_type": "stream",
          "text": [
            "100%|██████████| 7954/7954 [00:40<00:00, 195.77it/s]\n"
          ]
        },
        {
          "name": "stdout",
          "output_type": "stream",
          "text": [
            "Epoch 3/20, Loss: 6.1533\n"
          ]
        },
        {
          "name": "stderr",
          "output_type": "stream",
          "text": [
            "100%|██████████| 7954/7954 [00:40<00:00, 195.82it/s]\n"
          ]
        },
        {
          "name": "stdout",
          "output_type": "stream",
          "text": [
            "Epoch 4/20, Loss: 5.9896\n"
          ]
        },
        {
          "name": "stderr",
          "output_type": "stream",
          "text": [
            "100%|██████████| 7954/7954 [00:40<00:00, 196.57it/s]\n"
          ]
        },
        {
          "name": "stdout",
          "output_type": "stream",
          "text": [
            "Epoch 5/20, Loss: 5.9231\n"
          ]
        },
        {
          "name": "stderr",
          "output_type": "stream",
          "text": [
            "100%|██████████| 7954/7954 [00:41<00:00, 193.60it/s]\n"
          ]
        },
        {
          "name": "stdout",
          "output_type": "stream",
          "text": [
            "Epoch 6/20, Loss: 5.7651\n"
          ]
        },
        {
          "name": "stderr",
          "output_type": "stream",
          "text": [
            "100%|██████████| 7954/7954 [00:41<00:00, 193.36it/s]\n"
          ]
        },
        {
          "name": "stdout",
          "output_type": "stream",
          "text": [
            "Epoch 7/20, Loss: 5.6711\n"
          ]
        },
        {
          "name": "stderr",
          "output_type": "stream",
          "text": [
            "100%|██████████| 7954/7954 [00:40<00:00, 196.84it/s]\n"
          ]
        },
        {
          "name": "stdout",
          "output_type": "stream",
          "text": [
            "Epoch 8/20, Loss: 5.5932\n"
          ]
        },
        {
          "name": "stderr",
          "output_type": "stream",
          "text": [
            "100%|██████████| 7954/7954 [00:40<00:00, 195.87it/s]\n"
          ]
        },
        {
          "name": "stdout",
          "output_type": "stream",
          "text": [
            "Epoch 9/20, Loss: 5.5323\n"
          ]
        },
        {
          "name": "stderr",
          "output_type": "stream",
          "text": [
            "100%|██████████| 7954/7954 [00:40<00:00, 195.40it/s]\n"
          ]
        },
        {
          "name": "stdout",
          "output_type": "stream",
          "text": [
            "Epoch 10/20, Loss: 5.4800\n"
          ]
        },
        {
          "name": "stderr",
          "output_type": "stream",
          "text": [
            "100%|██████████| 7954/7954 [00:40<00:00, 194.62it/s]\n"
          ]
        },
        {
          "name": "stdout",
          "output_type": "stream",
          "text": [
            "Epoch 11/20, Loss: 5.4338\n"
          ]
        },
        {
          "name": "stderr",
          "output_type": "stream",
          "text": [
            "100%|██████████| 7954/7954 [00:40<00:00, 195.42it/s]\n"
          ]
        },
        {
          "name": "stdout",
          "output_type": "stream",
          "text": [
            "Epoch 12/20, Loss: 5.3907\n"
          ]
        },
        {
          "name": "stderr",
          "output_type": "stream",
          "text": [
            "100%|██████████| 7954/7954 [00:40<00:00, 195.62it/s]\n"
          ]
        },
        {
          "name": "stdout",
          "output_type": "stream",
          "text": [
            "Epoch 13/20, Loss: 5.3538\n"
          ]
        },
        {
          "name": "stderr",
          "output_type": "stream",
          "text": [
            "100%|██████████| 7954/7954 [00:40<00:00, 197.56it/s]\n"
          ]
        },
        {
          "name": "stdout",
          "output_type": "stream",
          "text": [
            "Epoch 14/20, Loss: 5.3201\n"
          ]
        },
        {
          "name": "stderr",
          "output_type": "stream",
          "text": [
            "100%|██████████| 7954/7954 [00:40<00:00, 195.77it/s]\n"
          ]
        },
        {
          "name": "stdout",
          "output_type": "stream",
          "text": [
            "Epoch 15/20, Loss: 5.2886\n"
          ]
        },
        {
          "name": "stderr",
          "output_type": "stream",
          "text": [
            "100%|██████████| 7954/7954 [00:40<00:00, 194.67it/s]\n"
          ]
        },
        {
          "name": "stdout",
          "output_type": "stream",
          "text": [
            "Epoch 16/20, Loss: 5.2592\n"
          ]
        },
        {
          "name": "stderr",
          "output_type": "stream",
          "text": [
            "100%|██████████| 7954/7954 [00:41<00:00, 193.82it/s]\n"
          ]
        },
        {
          "name": "stdout",
          "output_type": "stream",
          "text": [
            "Epoch 17/20, Loss: 5.2290\n"
          ]
        },
        {
          "name": "stderr",
          "output_type": "stream",
          "text": [
            "100%|██████████| 7954/7954 [00:41<00:00, 193.94it/s]\n"
          ]
        },
        {
          "name": "stdout",
          "output_type": "stream",
          "text": [
            "Epoch 18/20, Loss: 5.2030\n"
          ]
        },
        {
          "name": "stderr",
          "output_type": "stream",
          "text": [
            "100%|██████████| 7954/7954 [00:42<00:00, 187.57it/s]\n"
          ]
        },
        {
          "name": "stdout",
          "output_type": "stream",
          "text": [
            "Epoch 19/20, Loss: 5.1758\n"
          ]
        },
        {
          "name": "stderr",
          "output_type": "stream",
          "text": [
            "100%|██████████| 7954/7954 [00:44<00:00, 180.42it/s]"
          ]
        },
        {
          "name": "stdout",
          "output_type": "stream",
          "text": [
            "Epoch 20/20, Loss: 5.1528\n"
          ]
        },
        {
          "name": "stderr",
          "output_type": "stream",
          "text": [
            "\n"
          ]
        }
      ],
      "source": [
        "# train\n",
        "BaseModel.train()\n",
        "# torch.autograd.set_detect_anomaly(True)\n",
        "TBTT_losses, TBTTModel = train(BaseModel, dataloader=part1_dataloader,optimizer=optimizer, criterion=criterion, epochs=part1_epoch, hidden_size=hidden_size)\n",
        "# plot_losses(losses)"
      ]
    },
    {
      "cell_type": "code",
      "execution_count": 13,
      "metadata": {
        "colab": {
          "base_uri": "https://localhost:8080/",
          "height": 472
        },
        "id": "epiP9JItYjra",
        "outputId": "3f4a6992-4d82-4794-a8db-de7abbee7585"
      },
      "outputs": [
        {
          "data": {
            "image/png": "[encoded data removed]",
            "text/plain": [
              "<Figure size 640x480 with 1 Axes>"
            ]
          },
          "metadata": {},
          "output_type": "display_data"
        }
      ],
      "source": [
        "plot_losses(TBTT_losses)"
      ]
    },
    {
      "cell_type": "markdown",
      "metadata": {
        "id": "u8LaF-aR9Rw-"
      },
      "source": [
        "### 2. Train the Elman network with BTT"
      ]
    },
    {
      "cell_type": "code",
      "execution_count": 14,
      "metadata": {
        "id": "Ii6MlYfFZHha"
      },
      "outputs": [],
      "source": [
        "class BTTData(Dataset):\n",
        "    def __init__(self, data, vocabulary, max_sent_len):\n",
        "        self.data = data\n",
        "        self.vocabulary = vocabulary\n",
        "        self.word_to_idx = {word:i for i, word in enumerate(self.vocabulary)}\n",
        "        self.vocab_size = len(self.vocabulary)\n",
        "        self.tokenized_sentence = [nltk.word_tokenize(sentence) for sentence in self.data]\n",
        "        self.truncated_sentence = []\n",
        "        for sentence in self.tokenized_sentence:\n",
        "            if len(sentence) > max_sent_len:\n",
        "                self.truncated_sentence.append(sentence[:max_sent_len])\n",
        "            else:\n",
        "                self.truncated_sentence.append(sentence)\n",
        "\n",
        "\n",
        "    def __len__(self):\n",
        "        return len(self.truncated_sentence)\n",
        "\n",
        "    def one_hot_encoding(self, data_index):\n",
        "        one_hot = [0] * self.vocab_size\n",
        "        one_hot[data_index] = 1\n",
        "        return one_hot\n",
        "    def sentence_one_hot(self, sentence_idx):\n",
        "        # TODO1: including padding, to fit in batch\n",
        "        one_hot_sentence = []\n",
        "        # for i in range(max_sent_len):\n",
        "        #     if(i < len(self.truncated_sentence[sentence_idx])):\n",
        "        #       one_hot_sentence.append(self.one_hot_encoding(self.word_to_idx[self.truncated_sentence[sentence_idx][i]]))\n",
        "        #     else:\n",
        "        #         one_hot_sentence.append([0] * self.vocab_size)\n",
        "        # TODO2: without padding\n",
        "        one_hot_sentence = []\n",
        "        for token in self.truncated_sentence[sentence_idx]:\n",
        "            one_hot_sentence.append(self.one_hot_encoding(self.word_to_idx[token]))\n",
        "\n",
        "        return torch.tensor(one_hot_sentence, dtype=torch.float32)\n",
        "\n",
        "    ## TODO: add mini_batch\n",
        "    def __getitem__(self, index):\n",
        "        return self.sentence_one_hot(index)\n",
        "\n",
        "part2_dataset = BTTData(tokenized_sentences, vocabulary,max_sent_len)\n",
        "part2_dataloader = DataLoader(part2_dataset, batch_size = part2_batch_size, shuffle=True)\n",
        "\n"
      ]
    },
    {
      "cell_type": "code",
      "execution_count": 15,
      "metadata": {
        "id": "YmSxzT65HYd4"
      },
      "outputs": [],
      "source": [
        "#model\n",
        "class BTT(nn.Module):\n",
        "    def __init__(self, vocab_size, hidden_size, output_size):\n",
        "        super(BTT, self).__init__()\n",
        "        self.rnn = nn.RNN(vocab_size,hidden_size,batch_first=True)\n",
        "        self.fc = nn.Linear(hidden_size, output_size)\n",
        "    def forward(self, input, hidden):\n",
        "        output,hidden = self.rnn(input)\n",
        "        output = self.fc(output)\n",
        "        return output,hidden"
      ]
    },
    {
      "cell_type": "code",
      "execution_count": 16,
      "metadata": {
        "id": "LjpBMkMrMXWy"
      },
      "outputs": [],
      "source": [
        "def trainBTT(model, dataloader, optimizer, criterion,epochs=part2_epoch, hidden_size = hidden_size):\n",
        "    losses = []\n",
        "    for epoch in range(epochs):\n",
        "        total_loss = 0\n",
        "        hidden = torch.zeros(1,hidden_size).to(device)\n",
        "        for sentence in tqdm(dataloader):\n",
        "            sentence = sentence.to(device)\n",
        "            target = sentence.clone()\n",
        "            loss=0\n",
        "            for i in range(sentence.size(1)):\n",
        "                output, hidden = model(sentence[:, i,:], hidden.detach())\n",
        "                # hidden = hidden.to(device)\n",
        "                loss += criterion(output, target[:, i,:])\n",
        "            total_loss += loss.item() / sentence.size(1)\n",
        "            optimizer.zero_grad()  # Reset gradients\n",
        "            loss.backward(retain_graph=True)\n",
        "            optimizer.step()\n",
        "        avg_loss = total_loss/len(dataloader)\n",
        "        losses.append(avg_loss)\n",
        "        print(f\"Epoch {epoch + 1}/{epochs}, Loss: {avg_loss:.4f}\")\n",
        "    return losses, model"
      ]
    },
    {
      "cell_type": "code",
      "execution_count": 17,
      "metadata": {
        "id": "7HPk2-y-PfQq"
      },
      "outputs": [],
      "source": [
        "# model definition\n",
        "\n",
        "BTT_model=BTT(vocab_size,hidden_size,vocab_size)\n",
        "BTT_model.to(device)\n",
        "initialize_parameters(BTT_model)\n",
        "criterion = nn.CrossEntropyLoss()\n",
        "optimizer = torch.optim.Adam(BTT_model.parameters(), lr=lr)"
      ]
    },
    {
      "cell_type": "code",
      "execution_count": 18,
      "metadata": {
        "colab": {
          "base_uri": "https://localhost:8080/"
        },
        "id": "xuuywD6oRv5r",
        "outputId": "018d2aa4-cb18-4a24-a9a9-5dc2a01933fb"
      },
      "outputs": [
        {
          "name": "stderr",
          "output_type": "stream",
          "text": [
            "100%|██████████| 12449/12449 [09:20<00:00, 22.21it/s]\n"
          ]
        },
        {
          "name": "stdout",
          "output_type": "stream",
          "text": [
            "Epoch 1/5, Loss: 2.4302\n"
          ]
        },
        {
          "name": "stderr",
          "output_type": "stream",
          "text": [
            "100%|██████████| 12449/12449 [09:15<00:00, 22.43it/s]\n"
          ]
        },
        {
          "name": "stdout",
          "output_type": "stream",
          "text": [
            "Epoch 2/5, Loss: 0.8139\n"
          ]
        },
        {
          "name": "stderr",
          "output_type": "stream",
          "text": [
            "100%|██████████| 12449/12449 [09:12<00:00, 22.52it/s]\n"
          ]
        },
        {
          "name": "stdout",
          "output_type": "stream",
          "text": [
            "Epoch 3/5, Loss: 0.5306\n"
          ]
        },
        {
          "name": "stderr",
          "output_type": "stream",
          "text": [
            "100%|██████████| 12449/12449 [09:22<00:00, 22.15it/s]\n"
          ]
        },
        {
          "name": "stdout",
          "output_type": "stream",
          "text": [
            "Epoch 4/5, Loss: 0.4013\n"
          ]
        },
        {
          "name": "stderr",
          "output_type": "stream",
          "text": [
            "100%|██████████| 12449/12449 [09:23<00:00, 22.11it/s]"
          ]
        },
        {
          "name": "stdout",
          "output_type": "stream",
          "text": [
            "Epoch 5/5, Loss: 0.3250\n"
          ]
        },
        {
          "name": "stderr",
          "output_type": "stream",
          "text": [
            "\n"
          ]
        }
      ],
      "source": [
        "# train\n",
        "BTT_model.train()\n",
        "BTT_losses, BTTModel = trainBTT(BTT_model, part2_dataloader, optimizer, criterion)"
      ]
    },
    {
      "cell_type": "code",
      "execution_count": 19,
      "metadata": {
        "colab": {
          "base_uri": "https://localhost:8080/",
          "height": 472
        },
        "id": "F995O5nXUFF6",
        "outputId": "3b004d7f-7dce-487a-df5a-a78e6e26576e"
      },
      "outputs": [
        {
          "data": {
            "image/png": "[encoded data removed]",
            "text/plain": [
              "<Figure size 640x480 with 1 Axes>"
            ]
          },
          "metadata": {},
          "output_type": "display_data"
        }
      ],
      "source": [
        "# plot losses\n",
        "plot_losses(BTT_losses)"
      ]
    },
    {
      "cell_type": "markdown",
      "metadata": {
        "id": "ayMOZfrt9Rw-"
      },
      "source": [
        "### 3. Improve your Elman network with GRU"
      ]
    },
    {
      "cell_type": "markdown",
      "metadata": {
        "id": "Ttf-sV7Pv_ly"
      },
      "source": [
        "#### define GRU model"
      ]
    },
    {
      "cell_type": "code",
      "execution_count": 20,
      "metadata": {
        "id": "fjkQRXr--yMi"
      },
      "outputs": [],
      "source": [
        "# model\n",
        "class GRU(nn.Module):\n",
        "    def __init__(self, vocab_size, hidden_size, output_size):\n",
        "        super(GRU, self).__init__()\n",
        "        self.gru = nn.GRU(vocab_size,hidden_size,batch_first=True)\n",
        "        self.fc = nn.Linear(hidden_size, output_size)\n",
        "    def forward(self, input, hidden):\n",
        "        output,hidden = self.gru(input)\n",
        "        output = self.fc(output)\n",
        "        return output,hidden"
      ]
    },
    {
      "cell_type": "code",
      "execution_count": 21,
      "metadata": {
        "id": "OCFwUasVN_oC"
      },
      "outputs": [],
      "source": [
        "# train function\n",
        "\n",
        "def trainGRU(model, dataloader, optimizer, criterion, epochs=part3_epoch, hidden_size = hidden_size):\n",
        "    losses = []\n",
        "    for epoch in range(epochs):\n",
        "        total_loss = 0\n",
        "        hidden = torch.zeros(1,hidden_size).to(device)\n",
        "        for sentence in tqdm(dataloader):\n",
        "            sentence = sentence.to(device)\n",
        "            target = sentence.clone()\n",
        "            loss=0\n",
        "            for i in range(sentence.size(1)):\n",
        "                output, hidden = model(sentence[:, i,:], hidden.detach())\n",
        "                # hidden = hidden.to(device)\n",
        "                loss += criterion(output, target[:, i,:])\n",
        "            total_loss += loss.item() / sentence.size(1)\n",
        "            optimizer.zero_grad()  # Reset gradients\n",
        "            loss.backward(retain_graph=True)\n",
        "            optimizer.step()\n",
        "        avg_loss = total_loss/len(dataloader)\n",
        "        losses.append(avg_loss)\n",
        "        print(f\"Epoch {epoch + 1}/{epochs}, Loss: {avg_loss:.4f}\")\n",
        "    return losses, model"
      ]
    },
    {
      "cell_type": "code",
      "execution_count": 22,
      "metadata": {
        "id": "tSkXNa9LODPB"
      },
      "outputs": [],
      "source": [
        "# model definition\n",
        "\n",
        "GRU_model=GRU(vocab_size,hidden_size,vocab_size)\n",
        "GRU_model.to(device)\n",
        "initialize_parameters(GRU_model)\n",
        "criterion = nn.CrossEntropyLoss()\n",
        "optimizer = torch.optim.Adam(GRU_model.parameters(), lr=lr)"
      ]
    },
    {
      "cell_type": "code",
      "execution_count": 23,
      "metadata": {
        "colab": {
          "base_uri": "https://localhost:8080/"
        },
        "id": "jecobGnGTxH7",
        "outputId": "d8dcedde-d5b7-42f0-cc59-27d574b8eff3"
      },
      "outputs": [
        {
          "name": "stderr",
          "output_type": "stream",
          "text": [
            "100%|██████████| 12449/12449 [09:51<00:00, 21.03it/s]\n"
          ]
        },
        {
          "name": "stdout",
          "output_type": "stream",
          "text": [
            "Epoch 1/5, Loss: 2.7909\n"
          ]
        },
        {
          "name": "stderr",
          "output_type": "stream",
          "text": [
            "100%|██████████| 12449/12449 [09:48<00:00, 21.14it/s]\n"
          ]
        },
        {
          "name": "stdout",
          "output_type": "stream",
          "text": [
            "Epoch 2/5, Loss: 0.8426\n"
          ]
        },
        {
          "name": "stderr",
          "output_type": "stream",
          "text": [
            "100%|██████████| 12449/12449 [09:38<00:00, 21.51it/s]\n"
          ]
        },
        {
          "name": "stdout",
          "output_type": "stream",
          "text": [
            "Epoch 3/5, Loss: 0.5185\n"
          ]
        },
        {
          "name": "stderr",
          "output_type": "stream",
          "text": [
            "100%|██████████| 12449/12449 [09:43<00:00, 21.33it/s]\n"
          ]
        },
        {
          "name": "stdout",
          "output_type": "stream",
          "text": [
            "Epoch 4/5, Loss: 0.3823\n"
          ]
        },
        {
          "name": "stderr",
          "output_type": "stream",
          "text": [
            "100%|██████████| 12449/12449 [09:44<00:00, 21.29it/s]"
          ]
        },
        {
          "name": "stdout",
          "output_type": "stream",
          "text": [
            "Epoch 5/5, Loss: 0.3058\n"
          ]
        },
        {
          "name": "stderr",
          "output_type": "stream",
          "text": [
            "\n"
          ]
        }
      ],
      "source": [
        "# train model\n",
        "losses, GRUModel = trainGRU(GRU_model, part2_dataloader, optimizer, criterion)"
      ]
    },
    {
      "cell_type": "code",
      "execution_count": 24,
      "metadata": {
        "colab": {
          "base_uri": "https://localhost:8080/",
          "height": 472
        },
        "id": "RCVl3vOkTys8",
        "outputId": "479ec75e-6796-4ecc-c903-9d756f7f3b3b"
      },
      "outputs": [
        {
          "data": {
            "image/png": "[encoded data removed]",
            "text/plain": [
              "<Figure size 640x480 with 1 Axes>"
            ]
          },
          "metadata": {},
          "output_type": "display_data"
        }
      ],
      "source": [
        "# plot losses\n",
        "plot_losses(losses)"
      ]
    },
    {
      "cell_type": "markdown",
      "metadata": {
        "id": "OmRCXFmFv66U"
      },
      "source": [
        "#### Model comparison"
      ]
    },
    {
      "cell_type": "code",
      "execution_count": 25,
      "metadata": {
        "id": "89F35TkrwVXj"
      },
      "outputs": [],
      "source": [
        "# hyper-parameters:\n",
        "num_sentences = 10\n",
        "sentence_length = 15"
      ]
    },
    {
      "cell_type": "code",
      "execution_count": 26,
      "metadata": {
        "id": "ZysxM8x44JFN"
      },
      "outputs": [],
      "source": [
        "def one_hot_encoding(idx, vocab_size):\n",
        "    one_hot = [0] * vocab_size\n",
        "    one_hot[idx] = 1\n",
        "    return one_hot"
      ]
    },
    {
      "cell_type": "code",
      "execution_count": 27,
      "metadata": {
        "id": "sxRMqhI1Qdqr"
      },
      "outputs": [],
      "source": [
        "# Model comparison:\n",
        "\n",
        "def generate_sentence(model, idx, vocab, hidden_size, max_length ):\n",
        "    model.eval()\n",
        "    vocab_size = len(vocab)\n",
        "    one_hot_word = one_hot_encoding(idx, vocab_size)\n",
        "    # print(one_hot_word)\n",
        "    one_hot_sentence = []\n",
        "    one_hot_sentence.append(one_hot_word)\n",
        "    sentence = []\n",
        "    sentence.append(idx)\n",
        "    with torch.no_grad():\n",
        "        current_sentence = torch.tensor(one_hot_sentence, dtype=torch.float32).to(device)\n",
        "        hidden = torch.zeros(1,hidden_size ).to(device)\n",
        "        model.to(device)\n",
        "        for i in range(max_length - 1):\n",
        "            # print(i)\n",
        "            output, hidden = model(current_sentence, hidden)\n",
        "            output = F.softmax(output, dim=1)\n",
        "            # print(output.shape)\n",
        "            next_word_index = torch.argmax(output[-1:], dim=1).item()\n",
        "            sentence.append(next_word_index)\n",
        "            one_hot_sentence.append(one_hot_encoding(next_word_index, vocab_size))\n",
        "            current_sentence = torch.tensor(one_hot_sentence, dtype=torch.float32)\n",
        "            # TODO: put current_word and hidden to device\n",
        "            current_sentence = current_sentence.to(device)\n",
        "            hidden = hidden.to(device)\n",
        "\n",
        "    # Convert tokenized sentence back to words using vocabulary\n",
        "    vocab_list = list(vocab)\n",
        "    sentence_words = [vocab_list[word_index] for word_index in sentence]\n",
        "\n",
        "    return sentence_words\n"
      ]
    },
    {
      "cell_type": "code",
      "execution_count": 28,
      "metadata": {
        "id": "k8BeNimXOptP"
      },
      "outputs": [],
      "source": [
        "def combine_sentence(sentence):\n",
        "    combined_sentence = \"\"\n",
        "    for word in sentence:\n",
        "        combined_sentence += word + \" \"\n",
        "    return combined_sentence"
      ]
    },
    {
      "cell_type": "code",
      "execution_count": 29,
      "metadata": {
        "id": "4cLA0g1VQy_e"
      },
      "outputs": [],
      "source": [
        "base_sentences = []\n",
        "btt_sentences = []\n",
        "gru_sentences = []\n",
        "for i in range(num_sentences):\n",
        "    rand_int = random.randint(0, vocab_size-1)\n",
        "    base_sentences.append(combine_sentence(generate_sentence(TBTTModel, rand_int, vocabulary, hidden_size, max_length = sentence_length)))\n",
        "    btt_sentences.append(combine_sentence(generate_sentence(BTTModel, rand_int, vocabulary, hidden_size, max_length = sentence_length)))\n",
        "    gru_sentences.append(combine_sentence(generate_sentence(GRUModel, rand_int, vocabulary, hidden_size, max_length = sentence_length)))"
      ]
    },
    {
      "cell_type": "code",
      "execution_count": 30,
      "metadata": {
        "colab": {
          "base_uri": "https://localhost:8080/"
        },
        "id": "qOSKW8bpLPyx",
        "outputId": "e6ea3eb1-d60d-4e2f-dbf9-dcaedf155c77"
      },
      "outputs": [
        {
          "name": "stdout",
          "output_type": "stream",
          "text": [
            "\n",
            "sentences with model_part1: \n",
            "\n",
            "deserves it . i 'll be so , and i have been a little . \n",
            "squared me speak to the king edward iv : i have been a little , \n",
            "hallowed and what you have been a little , and i have i 'll be \n",
            "unsatiate vincentio : i 'll be so , and i have been a little . \n",
            "team of his father , and i have been a little . king richard iii \n",
            "treasonable that he shall i have been a little , and i have i 'll \n",
            "adage pray you have been in the king edward iv : i have been a \n",
            "big-swoln heart , and let him . duke vincentio : i have been a little \n",
            "greyhounds are the two in the king edward iv : i have been a little \n",
            "tired ; and you shall i 'll be so , and i have been a \n",
            "\n",
            "sentences with model_part2: \n",
            "\n",
            "deserves deserves deserves deserves deserves fortunes rosaline turns private denied for't ignorance pace nice rejoice \n",
            "squared squared squared , , , , , , , , , , , , \n",
            "hallowed hallowed angel angel angel fare apparent watch veins post-haste unbuild sue heavens ducat proof \n",
            "unsatiate unsatiate unsatiate sink sink grieved revel prayer prayer dies fellows trembling deceit deceit 'twixt \n",
            "team team torment'st torment'st disgrace disgrace 'beseech stabb embrace dance doubt doubt camest camest cheeks \n",
            "treasonable treasonable treasonable spots mortal-staring despite despite avoid smooth aught contrarious steaded unbound absence tame \n",
            "adage adage corpse used used urge accomplished courage courage hum remember hunt wont ship woods \n",
            "big-swoln testimony testimony testimony widow-dolour reverence wore dogs reverence scroop scroop avoid bastards fond fond \n",
            "greyhounds greyhounds greyhounds bears bears mothers marriage marriage garments garments pound ratcliff damned hard-hearted harsh \n",
            "tired tired tired know't envious length length length infected shut hair hair bred fabric spur \n",
            "\n",
            "sentences with model_part3: \n",
            "\n",
            "deserves deserves deserves deserves deserves deserves deserves deserves deserves deserves deserves deserves deserves deserves deserves \n",
            "squared squared squared squared summon summon summon summon summon summon summon summon summon summon summon \n",
            "hallowed message message message message message message message message message message message message message message \n",
            "unsatiate unsatiate protector protector protector protector protector protector protector protector protector protector protector protector protector \n",
            "team team team fashion fashion fashion fashion fashion fashion fashion fashion fashion fashion fashion fashion \n",
            "treasonable treasonable treasonable snapper-up snapper-up peopled bearing bearing bearing bearing bearing bearing bearing bearing bearing \n",
            "adage clothes clothes clothes clothes clothes clothes clothes clothes clothes clothes clothes clothes clothes clothes \n",
            "big-swoln big-swoln trade trade trade trade trade trade trade trade trade trade trade trade trade \n",
            "greyhounds greyhounds greyhounds greyhounds dined dined dined dined dined dined dined dined dined dined dined \n",
            "tired tired tired tired tired tired tired tired tired tired tired tired tired tired tired \n"
          ]
        }
      ],
      "source": [
        "print(\"\\nsentences with model_part1: \\n\")\n",
        "for i in range(num_sentences):\n",
        "    print(base_sentences[i])\n",
        "print(\"\\nsentences with model_part2: \\n\")\n",
        "for i in range(num_sentences):\n",
        "    print(btt_sentences[i])\n",
        "print(\"\\nsentences with model_part3: \\n\")\n",
        "for i in range(num_sentences):\n",
        "    print(gru_sentences[i])"
      ]
    },
    {
      "cell_type": "markdown",
      "metadata": {},
      "source": [
        "#### Conclusion: \n",
        "\n",
        "The first model which is trained with standard backword looks like proper English the most, while models for part 2 and 3 have bad quality. "
      ]
    },
    {
      "cell_type": "markdown",
      "metadata": {
        "id": "bFw-3mzZ9Rw_"
      },
      "source": [
        "### 4. Implement a text classification model"
      ]
    },
    {
      "cell_type": "code",
      "execution_count": 6,
      "metadata": {
        "id": "Y6FR6ImM5TPU"
      },
      "outputs": [],
      "source": [
        "data_path = \"./data/20news_subsampled\""
      ]
    },
    {
      "cell_type": "code",
      "execution_count": 7,
      "metadata": {
        "colab": {
          "base_uri": "https://localhost:8080/"
        },
        "id": "yq8YT26c9Rw_",
        "outputId": "f2796854-cd20-4bbd-ca12-e257cb7b81e6"
      },
      "outputs": [
        {
          "name": "stdout",
          "output_type": "stream",
          "text": [
            "Category:rec.autos\n",
            "Category:talk.politics.mideast\n"
          ]
        }
      ],
      "source": [
        "\"\"\"This code is used to read all news and their labels\"\"\"\n",
        "import os\n",
        "import glob\n",
        "\n",
        "def to_categories(name, cat=[\"politics\",\"rec\",\"comp\",\"religion\"]):\n",
        "    for i in range(len(cat)):\n",
        "        if str.find(name,cat[i])>-1:\n",
        "            return(i)\n",
        "    print(\"Unexpected folder: \" + name) # print the folder name which does not include expected categories\n",
        "    return(\"wth\")\n",
        "\n",
        "def data_loader(images_dir):\n",
        "    categories = os.listdir(data_path)\n",
        "    news = [] # news content\n",
        "    groups = [] # category which it belong to\n",
        "\n",
        "    for cat in categories:\n",
        "        print(\"Category:\"+cat)\n",
        "        for the_new_path in glob.glob(data_path + '/' + cat + '/*'):\n",
        "            news.append(open(the_new_path,encoding = \"ISO-8859-1\", mode ='r').read())\n",
        "            groups.append(cat)\n",
        "\n",
        "    return news, list(map(to_categories, groups))\n",
        "\n",
        "\n",
        "\n",
        "#data_path = \"20Newsgroups_subsampled\"\n",
        "data_path = \"./data/20news_subsampled\"\n",
        "news, groups = data_loader(data_path)"
      ]
    },
    {
      "cell_type": "code",
      "execution_count": 8,
      "metadata": {
        "id": "pKO9KMlj5TPU"
      },
      "outputs": [],
      "source": [
        "# construct vocabulary:\n",
        "vocabulary = []\n",
        "documents = []\n",
        "for new in news:\n",
        "    words = nltk.word_tokenize(new)\n",
        "    documents.append(words)\n",
        "    vocabulary += words\n",
        "vocabulary_part4 = set(vocabulary)\n",
        "word_to_idx_part4 = {word:i for i, word in enumerate(vocabulary_part4)}\n",
        "vocab_size_part4 = len(vocabulary_part4)"
      ]
    },
    {
      "cell_type": "code",
      "execution_count": 9,
      "metadata": {
        "id": "vOzrE8sR5TPU"
      },
      "outputs": [],
      "source": [
        "class TextClassData(Dataset):\n",
        "    def __init__(self, data_news, category, vocabulary):\n",
        "        self.data = data_news\n",
        "        self.vocabulary = vocabulary\n",
        "        self.category = category\n",
        "        # print(type(self.category))\n",
        "        self.word_to_idx = {word:i for i, word in enumerate(self.vocabulary)}\n",
        "        self.vocab_size = len(self.vocabulary)\n",
        "        # self.truncated_sentences = []\n",
        "        # for new in self.data:\n",
        "        #     # print(new)\n",
        "        #     sentences = []\n",
        "        #     for sentence in new:\n",
        "        #         # print(sentence)\n",
        "        #         tokenized_sentence = nltk.word_tokenize(sentence)\n",
        "        #         # print(tokenized_sentence)\n",
        "        #         if len(tokenized_sentence) > max_sent_len:\n",
        "        #             sentences.append(tokenized_sentence[:max_sent_len])\n",
        "        #         else:\n",
        "        #             sentences.append(tokenized_sentence)\n",
        "        #     self.truncated_sentences.append(sentences)\n",
        "\n",
        "\n",
        "\n",
        "    def __len__(self):\n",
        "        return len(self.data)\n",
        "\n",
        "    def one_hot_encoding(self, data_index):\n",
        "        one_hot = [0] * self.vocab_size\n",
        "        one_hot[data_index] = 1\n",
        "        return one_hot\n",
        "    def sentence_one_hot(self, new_idx):\n",
        "        # TODO1: including padding, to fit in batch\n",
        "        one_hot_sentences = []\n",
        "        # for i in range(max_sent_len):\n",
        "        #     if(i < len(self.truncated_sentence[sentence_idx])):\n",
        "        #       one_hot_sentence.append(self.one_hot_encoding(self.word_to_idx[self.truncated_sentence[sentence_idx][i]]))\n",
        "        #     else:\n",
        "        #         one_hot_sentence.append([0] * self.vocab_size)\n",
        "        # TODO2: without padding\n",
        "        for token in self.data[new_idx]:\n",
        "            one_hot_sentences.append(self.one_hot_encoding(self.word_to_idx[token]))\n",
        "\n",
        "        return torch.tensor(one_hot_sentences, dtype=torch.float32)\n",
        "        # return one_hot_sentences\n",
        "\n",
        "    ## TODO: add mini_batch\n",
        "    def __getitem__(self, index):\n",
        "        # print(self.category[index])\n",
        "        category = self.category[index]\n",
        "        target = torch.zeros(4)\n",
        "        target[category] = 1\n",
        "        return self.sentence_one_hot(index), target\n",
        "        # return self.category[index]\n",
        "\n",
        "# print(type(groups))\n",
        "part4_dataset = TextClassData(documents, groups,vocabulary_part4)"
      ]
    },
    {
      "cell_type": "code",
      "execution_count": 10,
      "metadata": {
        "id": "ixJACtT65TPV"
      },
      "outputs": [],
      "source": [
        "# split data\n",
        "total_size=len(part4_dataset)\n",
        "train_size=int(total_size*0.9)\n",
        "val_size=total_size-train_size\n",
        "train_set, val_set = random_split(part4_dataset, [train_size, val_size])\n",
        "data_loader4_train = DataLoader(train_set, shuffle=True)\n",
        "data_loader4_val = DataLoader(val_set, shuffle=True)"
      ]
    },
    {
      "cell_type": "code",
      "execution_count": 11,
      "metadata": {
        "id": "bLIH4pI8UWMg"
      },
      "outputs": [],
      "source": [
        "# model\n",
        "class TextClassModel(nn.Module):\n",
        "    def __init__(self, vocab_size, hidden_size, output_size):\n",
        "        super(TextClassModel, self).__init__()\n",
        "        self.gru = nn.GRU(vocab_size,hidden_size,batch_first=True)\n",
        "        self.fc = nn.Linear(hidden_size, output_size)\n",
        "    def forward(self, input, hidden):\n",
        "        output,hidden = self.gru(input)\n",
        "        output = self.fc(output)\n",
        "        return output,hidden"
      ]
    },
    {
      "cell_type": "code",
      "execution_count": 16,
      "metadata": {
        "id": "Kmh0vfmZUaAH"
      },
      "outputs": [],
      "source": [
        "def trainTextClass(model, dataloader, optimizer, criterion, epochs=1, hidden_size = hidden_size):\n",
        "    losses = []\n",
        "    for epoch in range(epochs):\n",
        "        total_loss = 0\n",
        "        hidden = torch.zeros(1,hidden_size).to(device)\n",
        "        for (new, target) in tqdm(dataloader):\n",
        "            new = new.to(device)\n",
        "            target = target.to(device)\n",
        "            output,_ = model(new, hidden)\n",
        "            output = output[:,-1,:].squeeze(1)\n",
        "            # print(output.shape, target.shape)\n",
        "            loss = criterion(output, target)\n",
        "            total_loss += loss.item()\n",
        "            optimizer.zero_grad()  # Reset gradients\n",
        "            loss.backward(retain_graph=True)\n",
        "            optimizer.step()\n",
        "        avg_loss = total_loss/len(dataloader)\n",
        "        losses.append(avg_loss)\n",
        "        print(f\"Epoch {epoch + 1}/{epochs}, Loss: {avg_loss:.4f}\")\n",
        "    return losses, model"
      ]
    },
    {
      "cell_type": "code",
      "execution_count": 17,
      "metadata": {
        "id": "GPeHwH32UcYr"
      },
      "outputs": [],
      "source": [
        "TextClass_Model=TextClassModel(vocab_size_part4,hidden_size,4).to(device)\n",
        "initialize_parameters(TextClass_Model)\n",
        "criterion = nn.CrossEntropyLoss()\n",
        "optimizer = torch.optim.Adam(TextClass_Model.parameters(), lr=lr)"
      ]
    },
    {
      "cell_type": "code",
      "execution_count": 18,
      "metadata": {
        "colab": {
          "base_uri": "https://localhost:8080/",
          "height": 321
        },
        "id": "Gu7rFmUUUrWG",
        "outputId": "d54c9166-565d-48a0-c1b5-7764d906cd63"
      },
      "outputs": [
        {
          "name": "stderr",
          "output_type": "stream",
          "text": [
            "100%|██████████| 1386/1386 [36:56<00:00,  1.60s/it]  "
          ]
        },
        {
          "name": "stdout",
          "output_type": "stream",
          "text": [
            "Epoch 1/1, Loss: 0.6493\n"
          ]
        },
        {
          "name": "stderr",
          "output_type": "stream",
          "text": [
            "\n"
          ]
        }
      ],
      "source": [
        "TextClass_Model.train()\n",
        "losses,_ = trainTextClass(TextClass_Model, data_loader4_train, optimizer, criterion)"
      ]
    }
  ],
  "metadata": {
    "accelerator": "GPU",
    "colab": {
      "gpuType": "V100",
      "machine_shape": "hm",
      "provenance": []
    },
    "kernelspec": {
      "display_name": "Python 3",
      "name": "python3"
    },
    "language_info": {
      "codemirror_mode": {
        "name": "ipython",
        "version": 3
      },
      "file_extension": ".py",
      "mimetype": "text/x-python",
      "name": "python",
      "nbconvert_exporter": "python",
      "pygments_lexer": "ipython3",
      "version": "3.12.2"
    }
  },
  "nbformat": 4,
  "nbformat_minor": 0
}
